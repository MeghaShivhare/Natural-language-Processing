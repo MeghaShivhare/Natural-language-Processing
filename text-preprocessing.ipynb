{
 "cells": [
  {
   "cell_type": "code",
   "execution_count": 1,
   "id": "fcf43cf9",
   "metadata": {
    "_cell_guid": "b1076dfc-b9ad-4769-8c92-a6c4dae69d19",
    "_uuid": "8f2839f25d086af736a60e9eeb907d3b93b6e0e5",
    "execution": {
     "iopub.execute_input": "2023-07-01T13:37:51.379821Z",
     "iopub.status.busy": "2023-07-01T13:37:51.379317Z",
     "iopub.status.idle": "2023-07-01T13:37:51.403566Z",
     "shell.execute_reply": "2023-07-01T13:37:51.402399Z"
    },
    "papermill": {
     "duration": 0.045088,
     "end_time": "2023-07-01T13:37:51.406506",
     "exception": false,
     "start_time": "2023-07-01T13:37:51.361418",
     "status": "completed"
    },
    "tags": []
   },
   "outputs": [
    {
     "name": "stdout",
     "output_type": "stream",
     "text": [
      "/kaggle/input/imdb-dataset-of-50k-movie-reviews/IMDB Dataset.csv\n"
     ]
    }
   ],
   "source": [
    "# This Python 3 environment comes with many helpful analytics libraries installed\n",
    "# It is defined by the kaggle/python Docker image: https://github.com/kaggle/docker-python\n",
    "# For example, here's several helpful packages to load\n",
    "\n",
    "import numpy as np # linear algebra\n",
    "import pandas as pd # data processing, CSV file I/O (e.g. pd.read_csv)\n",
    "\n",
    "# Input data files are available in the read-only \"../input/\" directory\n",
    "# For example, running this (by clicking run or pressing Shift+Enter) will list all files under the input directory\n",
    "\n",
    "import os\n",
    "for dirname, _, filenames in os.walk('/kaggle/input'):\n",
    "    for filename in filenames:\n",
    "        print(os.path.join(dirname, filename))\n",
    "\n",
    "# You can write up to 20GB to the current directory (/kaggle/working/) that gets preserved as output when you create a version using \"Save & Run All\" \n",
    "# You can also write temporary files to /kaggle/temp/, but they won't be saved outside of the current session"
   ]
  },
  {
   "cell_type": "code",
   "execution_count": 2,
   "id": "efde3b0b",
   "metadata": {
    "execution": {
     "iopub.execute_input": "2023-07-01T13:37:51.435858Z",
     "iopub.status.busy": "2023-07-01T13:37:51.435484Z",
     "iopub.status.idle": "2023-07-01T13:37:52.988195Z",
     "shell.execute_reply": "2023-07-01T13:37:52.987110Z"
    },
    "papermill": {
     "duration": 1.570307,
     "end_time": "2023-07-01T13:37:52.990798",
     "exception": false,
     "start_time": "2023-07-01T13:37:51.420491",
     "status": "completed"
    },
    "tags": []
   },
   "outputs": [],
   "source": [
    "df = pd.read_csv('/kaggle/input/imdb-dataset-of-50k-movie-reviews/IMDB Dataset.csv')"
   ]
  },
  {
   "cell_type": "code",
   "execution_count": 3,
   "id": "d8602ac6",
   "metadata": {
    "execution": {
     "iopub.execute_input": "2023-07-01T13:37:53.020077Z",
     "iopub.status.busy": "2023-07-01T13:37:53.019479Z",
     "iopub.status.idle": "2023-07-01T13:37:53.049597Z",
     "shell.execute_reply": "2023-07-01T13:37:53.048455Z"
    },
    "papermill": {
     "duration": 0.04779,
     "end_time": "2023-07-01T13:37:53.052217",
     "exception": false,
     "start_time": "2023-07-01T13:37:53.004427",
     "status": "completed"
    },
    "tags": []
   },
   "outputs": [
    {
     "data": {
      "text/html": [
       "<div>\n",
       "<style scoped>\n",
       "    .dataframe tbody tr th:only-of-type {\n",
       "        vertical-align: middle;\n",
       "    }\n",
       "\n",
       "    .dataframe tbody tr th {\n",
       "        vertical-align: top;\n",
       "    }\n",
       "\n",
       "    .dataframe thead th {\n",
       "        text-align: right;\n",
       "    }\n",
       "</style>\n",
       "<table border=\"1\" class=\"dataframe\">\n",
       "  <thead>\n",
       "    <tr style=\"text-align: right;\">\n",
       "      <th></th>\n",
       "      <th>review</th>\n",
       "      <th>sentiment</th>\n",
       "    </tr>\n",
       "  </thead>\n",
       "  <tbody>\n",
       "    <tr>\n",
       "      <th>0</th>\n",
       "      <td>One of the other reviewers has mentioned that ...</td>\n",
       "      <td>positive</td>\n",
       "    </tr>\n",
       "    <tr>\n",
       "      <th>1</th>\n",
       "      <td>A wonderful little production. &lt;br /&gt;&lt;br /&gt;The...</td>\n",
       "      <td>positive</td>\n",
       "    </tr>\n",
       "    <tr>\n",
       "      <th>2</th>\n",
       "      <td>I thought this was a wonderful way to spend ti...</td>\n",
       "      <td>positive</td>\n",
       "    </tr>\n",
       "    <tr>\n",
       "      <th>3</th>\n",
       "      <td>Basically there's a family where a little boy ...</td>\n",
       "      <td>negative</td>\n",
       "    </tr>\n",
       "    <tr>\n",
       "      <th>4</th>\n",
       "      <td>Petter Mattei's \"Love in the Time of Money\" is...</td>\n",
       "      <td>positive</td>\n",
       "    </tr>\n",
       "  </tbody>\n",
       "</table>\n",
       "</div>"
      ],
      "text/plain": [
       "                                              review sentiment\n",
       "0  One of the other reviewers has mentioned that ...  positive\n",
       "1  A wonderful little production. <br /><br />The...  positive\n",
       "2  I thought this was a wonderful way to spend ti...  positive\n",
       "3  Basically there's a family where a little boy ...  negative\n",
       "4  Petter Mattei's \"Love in the Time of Money\" is...  positive"
      ]
     },
     "execution_count": 3,
     "metadata": {},
     "output_type": "execute_result"
    }
   ],
   "source": [
    "df.head()"
   ]
  },
  {
   "cell_type": "markdown",
   "id": "c63af7c2",
   "metadata": {
    "papermill": {
     "duration": 0.014083,
     "end_time": "2023-07-01T13:37:53.080636",
     "exception": false,
     "start_time": "2023-07-01T13:37:53.066553",
     "status": "completed"
    },
    "tags": []
   },
   "source": [
    "<h3>Lowercase</h3> <br> In order to perform basic cleanup one of the major steps could be to convert data into lowercase for example \"basically\" and \"Basically\" could be considered two different words by the machine in further stages like tokenization, increasing the amount of work "
   ]
  },
  {
   "cell_type": "code",
   "execution_count": 4,
   "id": "a1a4653c",
   "metadata": {
    "execution": {
     "iopub.execute_input": "2023-07-01T13:37:53.112090Z",
     "iopub.status.busy": "2023-07-01T13:37:53.111079Z",
     "iopub.status.idle": "2023-07-01T13:37:53.118599Z",
     "shell.execute_reply": "2023-07-01T13:37:53.117486Z"
    },
    "papermill": {
     "duration": 0.026421,
     "end_time": "2023-07-01T13:37:53.121366",
     "exception": false,
     "start_time": "2023-07-01T13:37:53.094945",
     "status": "completed"
    },
    "tags": []
   },
   "outputs": [
    {
     "data": {
      "text/plain": [
       "'petter mattei\\'s \"love in the time of money\" is a visually stunning film to watch. mr. mattei offers us a vivid portrait about human relations. this is a movie that seems to be telling us what money, power and success do to people in the different situations we encounter. <br /><br />this being a variation on the arthur schnitzler\\'s play about the same theme, the director transfers the action to the present time new york where all these different characters meet and connect. each one is connected in one way, or another to the next person, but no one seems to know the previous point of contact. stylishly, the film has a sophisticated luxurious look. we are taken to see how these people live and the world they live in their own habitat.<br /><br />the only thing one gets out of all these souls in the picture is the different stages of loneliness each one inhabits. a big city is not exactly the best place in which human relations find sincere fulfillment, as one discerns is the case with most of the people we encounter.<br /><br />the acting is good under mr. mattei\\'s direction. steve buscemi, rosario dawson, carol kane, michael imperioli, adrian grenier, and the rest of the talented cast, make these characters come alive.<br /><br />we wish mr. mattei good luck and await anxiously for his next work.'"
      ]
     },
     "execution_count": 4,
     "metadata": {},
     "output_type": "execute_result"
    }
   ],
   "source": [
    "#converts the row at index 4\n",
    "df['review'][4].lower()"
   ]
  },
  {
   "cell_type": "code",
   "execution_count": 5,
   "id": "daddfd20",
   "metadata": {
    "execution": {
     "iopub.execute_input": "2023-07-01T13:37:53.151987Z",
     "iopub.status.busy": "2023-07-01T13:37:53.151562Z",
     "iopub.status.idle": "2023-07-01T13:37:53.366746Z",
     "shell.execute_reply": "2023-07-01T13:37:53.365652Z"
    },
    "papermill": {
     "duration": 0.233676,
     "end_time": "2023-07-01T13:37:53.369213",
     "exception": false,
     "start_time": "2023-07-01T13:37:53.135537",
     "status": "completed"
    },
    "tags": []
   },
   "outputs": [
    {
     "data": {
      "text/html": [
       "<div>\n",
       "<style scoped>\n",
       "    .dataframe tbody tr th:only-of-type {\n",
       "        vertical-align: middle;\n",
       "    }\n",
       "\n",
       "    .dataframe tbody tr th {\n",
       "        vertical-align: top;\n",
       "    }\n",
       "\n",
       "    .dataframe thead th {\n",
       "        text-align: right;\n",
       "    }\n",
       "</style>\n",
       "<table border=\"1\" class=\"dataframe\">\n",
       "  <thead>\n",
       "    <tr style=\"text-align: right;\">\n",
       "      <th></th>\n",
       "      <th>review</th>\n",
       "      <th>sentiment</th>\n",
       "    </tr>\n",
       "  </thead>\n",
       "  <tbody>\n",
       "    <tr>\n",
       "      <th>0</th>\n",
       "      <td>one of the other reviewers has mentioned that ...</td>\n",
       "      <td>positive</td>\n",
       "    </tr>\n",
       "    <tr>\n",
       "      <th>1</th>\n",
       "      <td>a wonderful little production. &lt;br /&gt;&lt;br /&gt;the...</td>\n",
       "      <td>positive</td>\n",
       "    </tr>\n",
       "    <tr>\n",
       "      <th>2</th>\n",
       "      <td>i thought this was a wonderful way to spend ti...</td>\n",
       "      <td>positive</td>\n",
       "    </tr>\n",
       "    <tr>\n",
       "      <th>3</th>\n",
       "      <td>basically there's a family where a little boy ...</td>\n",
       "      <td>negative</td>\n",
       "    </tr>\n",
       "    <tr>\n",
       "      <th>4</th>\n",
       "      <td>petter mattei's \"love in the time of money\" is...</td>\n",
       "      <td>positive</td>\n",
       "    </tr>\n",
       "    <tr>\n",
       "      <th>...</th>\n",
       "      <td>...</td>\n",
       "      <td>...</td>\n",
       "    </tr>\n",
       "    <tr>\n",
       "      <th>49995</th>\n",
       "      <td>i thought this movie did a down right good job...</td>\n",
       "      <td>positive</td>\n",
       "    </tr>\n",
       "    <tr>\n",
       "      <th>49996</th>\n",
       "      <td>bad plot, bad dialogue, bad acting, idiotic di...</td>\n",
       "      <td>negative</td>\n",
       "    </tr>\n",
       "    <tr>\n",
       "      <th>49997</th>\n",
       "      <td>i am a catholic taught in parochial elementary...</td>\n",
       "      <td>negative</td>\n",
       "    </tr>\n",
       "    <tr>\n",
       "      <th>49998</th>\n",
       "      <td>i'm going to have to disagree with the previou...</td>\n",
       "      <td>negative</td>\n",
       "    </tr>\n",
       "    <tr>\n",
       "      <th>49999</th>\n",
       "      <td>no one expects the star trek movies to be high...</td>\n",
       "      <td>negative</td>\n",
       "    </tr>\n",
       "  </tbody>\n",
       "</table>\n",
       "<p>50000 rows × 2 columns</p>\n",
       "</div>"
      ],
      "text/plain": [
       "                                                  review sentiment\n",
       "0      one of the other reviewers has mentioned that ...  positive\n",
       "1      a wonderful little production. <br /><br />the...  positive\n",
       "2      i thought this was a wonderful way to spend ti...  positive\n",
       "3      basically there's a family where a little boy ...  negative\n",
       "4      petter mattei's \"love in the time of money\" is...  positive\n",
       "...                                                  ...       ...\n",
       "49995  i thought this movie did a down right good job...  positive\n",
       "49996  bad plot, bad dialogue, bad acting, idiotic di...  negative\n",
       "49997  i am a catholic taught in parochial elementary...  negative\n",
       "49998  i'm going to have to disagree with the previou...  negative\n",
       "49999  no one expects the star trek movies to be high...  negative\n",
       "\n",
       "[50000 rows x 2 columns]"
      ]
     },
     "execution_count": 5,
     "metadata": {},
     "output_type": "execute_result"
    }
   ],
   "source": [
    "#to convert the whole dataset and assign it to df \n",
    "df['review'] = df['review'].str.lower()\n",
    "df"
   ]
  },
  {
   "cell_type": "markdown",
   "id": "bc12dc78",
   "metadata": {
    "papermill": {
     "duration": 0.013971,
     "end_time": "2023-07-01T13:37:53.397541",
     "exception": false,
     "start_time": "2023-07-01T13:37:53.383570",
     "status": "completed"
    },
    "tags": []
   },
   "source": [
    "# Remove HTML Tags\n",
    "HTML tags are used to make the browser understand but they are of no need here in analysis"
   ]
  },
  {
   "cell_type": "code",
   "execution_count": 6,
   "id": "4cb64172",
   "metadata": {
    "execution": {
     "iopub.execute_input": "2023-07-01T13:37:53.428367Z",
     "iopub.status.busy": "2023-07-01T13:37:53.427219Z",
     "iopub.status.idle": "2023-07-01T13:37:53.433070Z",
     "shell.execute_reply": "2023-07-01T13:37:53.432180Z"
    },
    "papermill": {
     "duration": 0.023734,
     "end_time": "2023-07-01T13:37:53.435528",
     "exception": false,
     "start_time": "2023-07-01T13:37:53.411794",
     "status": "completed"
    },
    "tags": []
   },
   "outputs": [],
   "source": [
    "import re\n",
    "def remove_html_tags(text):\n",
    "    pattern = re.compile('<.*?>')\n",
    "    return pattern.sub(r'', text)"
   ]
  },
  {
   "cell_type": "code",
   "execution_count": 7,
   "id": "06bb7725",
   "metadata": {
    "execution": {
     "iopub.execute_input": "2023-07-01T13:37:53.466516Z",
     "iopub.status.busy": "2023-07-01T13:37:53.466097Z",
     "iopub.status.idle": "2023-07-01T13:37:53.471497Z",
     "shell.execute_reply": "2023-07-01T13:37:53.470291Z"
    },
    "papermill": {
     "duration": 0.023562,
     "end_time": "2023-07-01T13:37:53.473872",
     "exception": false,
     "start_time": "2023-07-01T13:37:53.450310",
     "status": "completed"
    },
    "tags": []
   },
   "outputs": [],
   "source": [
    "text = '<html><body><p>Hello this is to test the function</p></body></html>'"
   ]
  },
  {
   "cell_type": "code",
   "execution_count": 8,
   "id": "905c399e",
   "metadata": {
    "execution": {
     "iopub.execute_input": "2023-07-01T13:37:53.504327Z",
     "iopub.status.busy": "2023-07-01T13:37:53.503920Z",
     "iopub.status.idle": "2023-07-01T13:37:53.510692Z",
     "shell.execute_reply": "2023-07-01T13:37:53.509711Z"
    },
    "papermill": {
     "duration": 0.024511,
     "end_time": "2023-07-01T13:37:53.512849",
     "exception": false,
     "start_time": "2023-07-01T13:37:53.488338",
     "status": "completed"
    },
    "tags": []
   },
   "outputs": [
    {
     "data": {
      "text/plain": [
       "'Hello this is to test the function'"
      ]
     },
     "execution_count": 8,
     "metadata": {},
     "output_type": "execute_result"
    }
   ],
   "source": [
    "remove_html_tags(text)"
   ]
  },
  {
   "cell_type": "code",
   "execution_count": 9,
   "id": "4c40a16e",
   "metadata": {
    "execution": {
     "iopub.execute_input": "2023-07-01T13:37:53.543527Z",
     "iopub.status.busy": "2023-07-01T13:37:53.543106Z",
     "iopub.status.idle": "2023-07-01T13:37:53.828483Z",
     "shell.execute_reply": "2023-07-01T13:37:53.827326Z"
    },
    "papermill": {
     "duration": 0.304061,
     "end_time": "2023-07-01T13:37:53.831308",
     "exception": false,
     "start_time": "2023-07-01T13:37:53.527247",
     "status": "completed"
    },
    "tags": []
   },
   "outputs": [
    {
     "data": {
      "text/plain": [
       "0        one of the other reviewers has mentioned that ...\n",
       "1        a wonderful little production. the filming tec...\n",
       "2        i thought this was a wonderful way to spend ti...\n",
       "3        basically there's a family where a little boy ...\n",
       "4        petter mattei's \"love in the time of money\" is...\n",
       "                               ...                        \n",
       "49995    i thought this movie did a down right good job...\n",
       "49996    bad plot, bad dialogue, bad acting, idiotic di...\n",
       "49997    i am a catholic taught in parochial elementary...\n",
       "49998    i'm going to have to disagree with the previou...\n",
       "49999    no one expects the star trek movies to be high...\n",
       "Name: review, Length: 50000, dtype: object"
      ]
     },
     "execution_count": 9,
     "metadata": {},
     "output_type": "execute_result"
    }
   ],
   "source": [
    "#applying our function to dataset\n",
    "df['review'] = df['review'].apply(remove_html_tags)\n",
    "df['review']"
   ]
  },
  {
   "cell_type": "code",
   "execution_count": 10,
   "id": "b619c792",
   "metadata": {
    "execution": {
     "iopub.execute_input": "2023-07-01T13:37:53.862858Z",
     "iopub.status.busy": "2023-07-01T13:37:53.862452Z",
     "iopub.status.idle": "2023-07-01T13:37:53.869166Z",
     "shell.execute_reply": "2023-07-01T13:37:53.868133Z"
    },
    "papermill": {
     "duration": 0.025564,
     "end_time": "2023-07-01T13:37:53.871451",
     "exception": false,
     "start_time": "2023-07-01T13:37:53.845887",
     "status": "completed"
    },
    "tags": []
   },
   "outputs": [
    {
     "data": {
      "text/plain": [
       "'petter mattei\\'s \"love in the time of money\" is a visually stunning film to watch. mr. mattei offers us a vivid portrait about human relations. this is a movie that seems to be telling us what money, power and success do to people in the different situations we encounter. this being a variation on the arthur schnitzler\\'s play about the same theme, the director transfers the action to the present time new york where all these different characters meet and connect. each one is connected in one way, or another to the next person, but no one seems to know the previous point of contact. stylishly, the film has a sophisticated luxurious look. we are taken to see how these people live and the world they live in their own habitat.the only thing one gets out of all these souls in the picture is the different stages of loneliness each one inhabits. a big city is not exactly the best place in which human relations find sincere fulfillment, as one discerns is the case with most of the people we encounter.the acting is good under mr. mattei\\'s direction. steve buscemi, rosario dawson, carol kane, michael imperioli, adrian grenier, and the rest of the talented cast, make these characters come alive.we wish mr. mattei good luck and await anxiously for his next work.'"
      ]
     },
     "execution_count": 10,
     "metadata": {},
     "output_type": "execute_result"
    }
   ],
   "source": [
    "df['review'][4]"
   ]
  },
  {
   "cell_type": "markdown",
   "id": "409a1557",
   "metadata": {
    "papermill": {
     "duration": 0.014747,
     "end_time": "2023-07-01T13:37:53.901607",
     "exception": false,
     "start_time": "2023-07-01T13:37:53.886860",
     "status": "completed"
    },
    "tags": []
   },
   "source": [
    "# Remove URLS\n",
    "Remove URLS using regular expression pattern : https?://\\S+|www\\.\\S+"
   ]
  },
  {
   "cell_type": "code",
   "execution_count": 11,
   "id": "9cfc7f90",
   "metadata": {
    "execution": {
     "iopub.execute_input": "2023-07-01T13:37:53.933373Z",
     "iopub.status.busy": "2023-07-01T13:37:53.932615Z",
     "iopub.status.idle": "2023-07-01T13:37:53.938476Z",
     "shell.execute_reply": "2023-07-01T13:37:53.937618Z"
    },
    "papermill": {
     "duration": 0.024471,
     "end_time": "2023-07-01T13:37:53.940774",
     "exception": false,
     "start_time": "2023-07-01T13:37:53.916303",
     "status": "completed"
    },
    "tags": []
   },
   "outputs": [],
   "source": [
    " def remove_urls(text):\n",
    "        pattern = re.compile('https?://\\S+|www\\.\\S+')\n",
    "        return pattern.sub(r'', text)\n",
    "        "
   ]
  },
  {
   "cell_type": "code",
   "execution_count": 12,
   "id": "f128114d",
   "metadata": {
    "execution": {
     "iopub.execute_input": "2023-07-01T13:37:53.972272Z",
     "iopub.status.busy": "2023-07-01T13:37:53.971627Z",
     "iopub.status.idle": "2023-07-01T13:37:53.976689Z",
     "shell.execute_reply": "2023-07-01T13:37:53.975858Z"
    },
    "papermill": {
     "duration": 0.023346,
     "end_time": "2023-07-01T13:37:53.978867",
     "exception": false,
     "start_time": "2023-07-01T13:37:53.955521",
     "status": "completed"
    },
    "tags": []
   },
   "outputs": [],
   "source": [
    "text1 = 'check out my notebook https://www.kaggle.com/meghashivhare/text-preprocessing'\n",
    "text2 = 'check out my notebook http://www.kaggle.com/meghashivhare/text-preprocessing'\n",
    "text3 = 'search on google - www.google.com'"
   ]
  },
  {
   "cell_type": "code",
   "execution_count": 13,
   "id": "0f573383",
   "metadata": {
    "execution": {
     "iopub.execute_input": "2023-07-01T13:37:54.010398Z",
     "iopub.status.busy": "2023-07-01T13:37:54.009819Z",
     "iopub.status.idle": "2023-07-01T13:37:54.016515Z",
     "shell.execute_reply": "2023-07-01T13:37:54.015678Z"
    },
    "papermill": {
     "duration": 0.025006,
     "end_time": "2023-07-01T13:37:54.018615",
     "exception": false,
     "start_time": "2023-07-01T13:37:53.993609",
     "status": "completed"
    },
    "tags": []
   },
   "outputs": [
    {
     "data": {
      "text/plain": [
       "'check out my notebook '"
      ]
     },
     "execution_count": 13,
     "metadata": {},
     "output_type": "execute_result"
    }
   ],
   "source": [
    "remove_urls(text1)"
   ]
  },
  {
   "cell_type": "code",
   "execution_count": 14,
   "id": "2d6ab3fb",
   "metadata": {
    "execution": {
     "iopub.execute_input": "2023-07-01T13:37:54.050298Z",
     "iopub.status.busy": "2023-07-01T13:37:54.049875Z",
     "iopub.status.idle": "2023-07-01T13:37:54.055503Z",
     "shell.execute_reply": "2023-07-01T13:37:54.054745Z"
    },
    "papermill": {
     "duration": 0.023956,
     "end_time": "2023-07-01T13:37:54.057490",
     "exception": false,
     "start_time": "2023-07-01T13:37:54.033534",
     "status": "completed"
    },
    "tags": []
   },
   "outputs": [
    {
     "data": {
      "text/plain": [
       "'check out my notebook '"
      ]
     },
     "execution_count": 14,
     "metadata": {},
     "output_type": "execute_result"
    }
   ],
   "source": [
    "remove_urls(text2)"
   ]
  },
  {
   "cell_type": "code",
   "execution_count": 15,
   "id": "08171bc6",
   "metadata": {
    "execution": {
     "iopub.execute_input": "2023-07-01T13:37:54.090141Z",
     "iopub.status.busy": "2023-07-01T13:37:54.088987Z",
     "iopub.status.idle": "2023-07-01T13:37:54.095626Z",
     "shell.execute_reply": "2023-07-01T13:37:54.094522Z"
    },
    "papermill": {
     "duration": 0.025618,
     "end_time": "2023-07-01T13:37:54.098148",
     "exception": false,
     "start_time": "2023-07-01T13:37:54.072530",
     "status": "completed"
    },
    "tags": []
   },
   "outputs": [
    {
     "data": {
      "text/plain": [
       "'search on google - '"
      ]
     },
     "execution_count": 15,
     "metadata": {},
     "output_type": "execute_result"
    }
   ],
   "source": [
    "remove_urls(text3)"
   ]
  },
  {
   "cell_type": "markdown",
   "id": "d1af2ee2",
   "metadata": {
    "papermill": {
     "duration": 0.014902,
     "end_time": "2023-07-01T13:37:54.128857",
     "exception": false,
     "start_time": "2023-07-01T13:37:54.113955",
     "status": "completed"
    },
    "tags": []
   },
   "source": [
    "# Remove Punctuations\n",
    "Now we will remove punctuations (! , # etc) <br>\n",
    "Reason <br>\n",
    "Tokenization stage - <br>\n",
    "Case 1 - Machine will treat words, punctuations separately where things like punctuations might be of no use (this might differ according to the project you're making) and will make the document lengthy. <br>\n",
    "example - Hello! how are you? <br>\n",
    "will be treated as <br> 1-hello <br> 2-! <br> 3-how <br>.....and so on <br> where storing ! and ? makes no sense <br>\n",
    "Case 2 - Machine will treat punctuations with word as one <br>\n",
    "above example will be treated as <br>1-hello!<br> 2-how<br> 3-are <br>4-you? <br>\n",
    "but now hello and hello? will be considered as 2 different tokens further confusing the model"
   ]
  },
  {
   "cell_type": "code",
   "execution_count": 16,
   "id": "88c5321c",
   "metadata": {
    "execution": {
     "iopub.execute_input": "2023-07-01T13:37:54.161814Z",
     "iopub.status.busy": "2023-07-01T13:37:54.160645Z",
     "iopub.status.idle": "2023-07-01T13:37:54.167690Z",
     "shell.execute_reply": "2023-07-01T13:37:54.166564Z"
    },
    "papermill": {
     "duration": 0.025541,
     "end_time": "2023-07-01T13:37:54.169817",
     "exception": false,
     "start_time": "2023-07-01T13:37:54.144276",
     "status": "completed"
    },
    "tags": []
   },
   "outputs": [
    {
     "data": {
      "text/plain": [
       "'!\"#$%&\\'()*+,-./:;<=>?@[\\\\]^_`{|}~'"
      ]
     },
     "execution_count": 16,
     "metadata": {},
     "output_type": "execute_result"
    }
   ],
   "source": [
    "import string,time\n",
    "string.punctuation"
   ]
  },
  {
   "cell_type": "code",
   "execution_count": 17,
   "id": "dae80895",
   "metadata": {
    "execution": {
     "iopub.execute_input": "2023-07-01T13:37:54.202536Z",
     "iopub.status.busy": "2023-07-01T13:37:54.201458Z",
     "iopub.status.idle": "2023-07-01T13:37:54.206030Z",
     "shell.execute_reply": "2023-07-01T13:37:54.205268Z"
    },
    "papermill": {
     "duration": 0.023252,
     "end_time": "2023-07-01T13:37:54.208248",
     "exception": false,
     "start_time": "2023-07-01T13:37:54.184996",
     "status": "completed"
    },
    "tags": []
   },
   "outputs": [],
   "source": [
    " exclude = string.punctuation"
   ]
  },
  {
   "cell_type": "code",
   "execution_count": 18,
   "id": "9a3484a3",
   "metadata": {
    "execution": {
     "iopub.execute_input": "2023-07-01T13:37:54.241314Z",
     "iopub.status.busy": "2023-07-01T13:37:54.240170Z",
     "iopub.status.idle": "2023-07-01T13:37:54.246228Z",
     "shell.execute_reply": "2023-07-01T13:37:54.245432Z"
    },
    "papermill": {
     "duration": 0.024858,
     "end_time": "2023-07-01T13:37:54.248398",
     "exception": false,
     "start_time": "2023-07-01T13:37:54.223540",
     "status": "completed"
    },
    "tags": []
   },
   "outputs": [],
   "source": [
    "#function made from scratch\n",
    "def remove_punc(text):\n",
    "    for char in exclude:\n",
    "        text = text.replace(char,'')\n",
    "    return text"
   ]
  },
  {
   "cell_type": "code",
   "execution_count": 19,
   "id": "16298792",
   "metadata": {
    "execution": {
     "iopub.execute_input": "2023-07-01T13:37:54.281670Z",
     "iopub.status.busy": "2023-07-01T13:37:54.280732Z",
     "iopub.status.idle": "2023-07-01T13:37:54.285675Z",
     "shell.execute_reply": "2023-07-01T13:37:54.284654Z"
    },
    "papermill": {
     "duration": 0.024155,
     "end_time": "2023-07-01T13:37:54.288068",
     "exception": false,
     "start_time": "2023-07-01T13:37:54.263913",
     "status": "completed"
    },
    "tags": []
   },
   "outputs": [],
   "source": [
    "text = \"Some? string, with! punctuations#\""
   ]
  },
  {
   "cell_type": "code",
   "execution_count": 20,
   "id": "11d4d297",
   "metadata": {
    "execution": {
     "iopub.execute_input": "2023-07-01T13:37:54.322046Z",
     "iopub.status.busy": "2023-07-01T13:37:54.321670Z",
     "iopub.status.idle": "2023-07-01T13:37:54.328772Z",
     "shell.execute_reply": "2023-07-01T13:37:54.327459Z"
    },
    "papermill": {
     "duration": 0.027081,
     "end_time": "2023-07-01T13:37:54.331226",
     "exception": false,
     "start_time": "2023-07-01T13:37:54.304145",
     "status": "completed"
    },
    "tags": []
   },
   "outputs": [
    {
     "data": {
      "text/plain": [
       "'Some string with punctuations'"
      ]
     },
     "execution_count": 20,
     "metadata": {},
     "output_type": "execute_result"
    }
   ],
   "source": [
    "remove_punc(text)"
   ]
  },
  {
   "cell_type": "code",
   "execution_count": 21,
   "id": "80f2db3a",
   "metadata": {
    "execution": {
     "iopub.execute_input": "2023-07-01T13:37:54.365655Z",
     "iopub.status.busy": "2023-07-01T13:37:54.365016Z",
     "iopub.status.idle": "2023-07-01T13:37:54.370521Z",
     "shell.execute_reply": "2023-07-01T13:37:54.369352Z"
    },
    "papermill": {
     "duration": 0.025348,
     "end_time": "2023-07-01T13:37:54.372649",
     "exception": false,
     "start_time": "2023-07-01T13:37:54.347301",
     "status": "completed"
    },
    "tags": []
   },
   "outputs": [
    {
     "name": "stdout",
     "output_type": "stream",
     "text": [
      "Some string with punctuations\n",
      "1.5115737915039062\n"
     ]
    }
   ],
   "source": [
    "#let's calculate the time taken \n",
    "start = time.time()\n",
    "print(remove_punc(text))\n",
    "time1 = time.time() - start\n",
    "print(time1*5000)"
   ]
  },
  {
   "cell_type": "code",
   "execution_count": 22,
   "id": "f5236cb7",
   "metadata": {
    "execution": {
     "iopub.execute_input": "2023-07-01T13:37:54.405922Z",
     "iopub.status.busy": "2023-07-01T13:37:54.405178Z",
     "iopub.status.idle": "2023-07-01T13:37:54.410381Z",
     "shell.execute_reply": "2023-07-01T13:37:54.409307Z"
    },
    "papermill": {
     "duration": 0.024717,
     "end_time": "2023-07-01T13:37:54.412873",
     "exception": false,
     "start_time": "2023-07-01T13:37:54.388156",
     "status": "completed"
    },
    "tags": []
   },
   "outputs": [],
   "source": [
    "#the time taken is more hence let's try another technique\n",
    "def remove_punc1(text):\n",
    "    return text.translate(str.maketrans('','',exclude))"
   ]
  },
  {
   "cell_type": "code",
   "execution_count": 23,
   "id": "4bb1b7e0",
   "metadata": {
    "execution": {
     "iopub.execute_input": "2023-07-01T13:37:54.446164Z",
     "iopub.status.busy": "2023-07-01T13:37:54.445732Z",
     "iopub.status.idle": "2023-07-01T13:37:54.452156Z",
     "shell.execute_reply": "2023-07-01T13:37:54.451002Z"
    },
    "papermill": {
     "duration": 0.026588,
     "end_time": "2023-07-01T13:37:54.455112",
     "exception": false,
     "start_time": "2023-07-01T13:37:54.428524",
     "status": "completed"
    },
    "tags": []
   },
   "outputs": [
    {
     "name": "stdout",
     "output_type": "stream",
     "text": [
      "Some string with punctuations\n",
      "0.8273124694824219\n"
     ]
    }
   ],
   "source": [
    "start = time.time()\n",
    "print(remove_punc1(text))\n",
    "time1 = time.time() - start\n",
    "print(time1*5000)"
   ]
  },
  {
   "cell_type": "code",
   "execution_count": 24,
   "id": "3a69fd32",
   "metadata": {
    "execution": {
     "iopub.execute_input": "2023-07-01T13:37:54.489108Z",
     "iopub.status.busy": "2023-07-01T13:37:54.488735Z",
     "iopub.status.idle": "2023-07-01T13:37:55.831925Z",
     "shell.execute_reply": "2023-07-01T13:37:55.830189Z"
    },
    "papermill": {
     "duration": 1.363558,
     "end_time": "2023-07-01T13:37:55.834456",
     "exception": false,
     "start_time": "2023-07-01T13:37:54.470898",
     "status": "completed"
    },
    "tags": []
   },
   "outputs": [
    {
     "data": {
      "text/plain": [
       "'petter matteis love in the time of money is a visually stunning film to watch mr mattei offers us a vivid portrait about human relations this is a movie that seems to be telling us what money power and success do to people in the different situations we encounter this being a variation on the arthur schnitzlers play about the same theme the director transfers the action to the present time new york where all these different characters meet and connect each one is connected in one way or another to the next person but no one seems to know the previous point of contact stylishly the film has a sophisticated luxurious look we are taken to see how these people live and the world they live in their own habitatthe only thing one gets out of all these souls in the picture is the different stages of loneliness each one inhabits a big city is not exactly the best place in which human relations find sincere fulfillment as one discerns is the case with most of the people we encounterthe acting is good under mr matteis direction steve buscemi rosario dawson carol kane michael imperioli adrian grenier and the rest of the talented cast make these characters come alivewe wish mr mattei good luck and await anxiously for his next work'"
      ]
     },
     "execution_count": 24,
     "metadata": {},
     "output_type": "execute_result"
    }
   ],
   "source": [
    "df['review'] = df['review'].apply(remove_punc1)\n",
    "df['review'][4]"
   ]
  },
  {
   "cell_type": "markdown",
   "id": "c141bda0",
   "metadata": {
    "papermill": {
     "duration": 0.015902,
     "end_time": "2023-07-01T13:37:55.866264",
     "exception": false,
     "start_time": "2023-07-01T13:37:55.850362",
     "status": "completed"
    },
    "tags": []
   },
   "source": [
    "# Chat word Treatment\n",
    "Converting social media abbreviations like lmao, rofl, asap back to orginal forms using python dictonary "
   ]
  },
  {
   "cell_type": "code",
   "execution_count": 25,
   "id": "4dfef785",
   "metadata": {
    "execution": {
     "iopub.execute_input": "2023-07-01T13:37:55.900221Z",
     "iopub.status.busy": "2023-07-01T13:37:55.899830Z",
     "iopub.status.idle": "2023-07-01T13:37:55.905531Z",
     "shell.execute_reply": "2023-07-01T13:37:55.904338Z"
    },
    "papermill": {
     "duration": 0.025994,
     "end_time": "2023-07-01T13:37:55.907915",
     "exception": false,
     "start_time": "2023-07-01T13:37:55.881921",
     "status": "completed"
    },
    "tags": []
   },
   "outputs": [],
   "source": [
    "chat_words = { \"AFAIK\":\"As Far As I Know\", \"AFK\" : \"Away From Keyboard\",\n",
    "\"ASAP\":\"As Soon As Possible\",\n",
    "\"ATK\":\"At The Keyboard\",\n",
    "\"BRB\":\"Be Right Back\",\n",
    "\"B4N\":\"Bye For Now\",\n",
    "\"TTYL\":\"Talk To You Later\" } "
   ]
  },
  {
   "cell_type": "code",
   "execution_count": 26,
   "id": "e1ff1cdf",
   "metadata": {
    "execution": {
     "iopub.execute_input": "2023-07-01T13:37:55.942236Z",
     "iopub.status.busy": "2023-07-01T13:37:55.941826Z",
     "iopub.status.idle": "2023-07-01T13:37:55.948848Z",
     "shell.execute_reply": "2023-07-01T13:37:55.947732Z"
    },
    "papermill": {
     "duration": 0.027292,
     "end_time": "2023-07-01T13:37:55.951552",
     "exception": false,
     "start_time": "2023-07-01T13:37:55.924260",
     "status": "completed"
    },
    "tags": []
   },
   "outputs": [
    {
     "data": {
      "text/plain": [
       "{'AFAIK': 'As Far As I Know',\n",
       " 'AFK': 'Away From Keyboard',\n",
       " 'ASAP': 'As Soon As Possible',\n",
       " 'ATK': 'At The Keyboard',\n",
       " 'BRB': 'Be Right Back',\n",
       " 'B4N': 'Bye For Now',\n",
       " 'TTYL': 'Talk To You Later'}"
      ]
     },
     "execution_count": 26,
     "metadata": {},
     "output_type": "execute_result"
    }
   ],
   "source": [
    "chat_words"
   ]
  },
  {
   "cell_type": "code",
   "execution_count": 27,
   "id": "b31daa43",
   "metadata": {
    "execution": {
     "iopub.execute_input": "2023-07-01T13:37:55.985091Z",
     "iopub.status.busy": "2023-07-01T13:37:55.984713Z",
     "iopub.status.idle": "2023-07-01T13:37:55.991269Z",
     "shell.execute_reply": "2023-07-01T13:37:55.989963Z"
    },
    "papermill": {
     "duration": 0.026247,
     "end_time": "2023-07-01T13:37:55.993712",
     "exception": false,
     "start_time": "2023-07-01T13:37:55.967465",
     "status": "completed"
    },
    "tags": []
   },
   "outputs": [],
   "source": [
    "def chat_conversion(text):\n",
    "    new_text = []\n",
    "    for w in text.split():\n",
    "        if w.upper() in chat_words:\n",
    "            new_text.append(chat_words[w.upper()])\n",
    "        else:\n",
    "            new_text.append(w)\n",
    "#     return \" \"..join(new_text)\n",
    "    return \" \".join(new_text)"
   ]
  },
  {
   "cell_type": "code",
   "execution_count": 28,
   "id": "cb634099",
   "metadata": {
    "execution": {
     "iopub.execute_input": "2023-07-01T13:37:56.027336Z",
     "iopub.status.busy": "2023-07-01T13:37:56.026936Z",
     "iopub.status.idle": "2023-07-01T13:37:56.033881Z",
     "shell.execute_reply": "2023-07-01T13:37:56.032807Z"
    },
    "papermill": {
     "duration": 0.026569,
     "end_time": "2023-07-01T13:37:56.036303",
     "exception": false,
     "start_time": "2023-07-01T13:37:56.009734",
     "status": "completed"
    },
    "tags": []
   },
   "outputs": [
    {
     "data": {
      "text/plain": [
       "\"I'll call you As Soon As Possible\""
      ]
     },
     "execution_count": 28,
     "metadata": {},
     "output_type": "execute_result"
    }
   ],
   "source": [
    "chat_conversion(\"I'll call you asap\")"
   ]
  },
  {
   "cell_type": "markdown",
   "id": "a73a2223",
   "metadata": {
    "papermill": {
     "duration": 0.016669,
     "end_time": "2023-07-01T13:37:56.069171",
     "exception": false,
     "start_time": "2023-07-01T13:37:56.052502",
     "status": "completed"
    },
    "tags": []
   },
   "source": [
    "# Spelling Correction"
   ]
  },
  {
   "cell_type": "code",
   "execution_count": 29,
   "id": "344a107c",
   "metadata": {
    "execution": {
     "iopub.execute_input": "2023-07-01T13:37:56.103338Z",
     "iopub.status.busy": "2023-07-01T13:37:56.102907Z",
     "iopub.status.idle": "2023-07-01T13:37:58.242445Z",
     "shell.execute_reply": "2023-07-01T13:37:58.241279Z"
    },
    "papermill": {
     "duration": 2.159602,
     "end_time": "2023-07-01T13:37:58.245058",
     "exception": false,
     "start_time": "2023-07-01T13:37:56.085456",
     "status": "completed"
    },
    "tags": []
   },
   "outputs": [
    {
     "data": {
      "text/plain": [
       "'so basically this is a statement with incorrect words'"
      ]
     },
     "execution_count": 29,
     "metadata": {},
     "output_type": "execute_result"
    }
   ],
   "source": [
    "from textblob import TextBlob\n",
    "incorrect_text = 'soo basicaally this is a sttement with inncorrect words'\n",
    "txtBlob = TextBlob(incorrect_text)\n",
    "txtBlob.correct().string"
   ]
  },
  {
   "cell_type": "markdown",
   "id": "d9b112d7",
   "metadata": {
    "papermill": {
     "duration": 0.015757,
     "end_time": "2023-07-01T13:37:58.277039",
     "exception": false,
     "start_time": "2023-07-01T13:37:58.261282",
     "status": "completed"
    },
    "tags": []
   },
   "source": [
    "# Removing Stop words\n",
    "Words that are used in sentence formation (like A,the,and etc) but have no meaning and might not be useful for tasks like sentiment analysis altough for tasks like parts of speech tagging stop words might be useful"
   ]
  },
  {
   "cell_type": "code",
   "execution_count": 30,
   "id": "fc880ede",
   "metadata": {
    "execution": {
     "iopub.execute_input": "2023-07-01T13:37:58.312022Z",
     "iopub.status.busy": "2023-07-01T13:37:58.310930Z",
     "iopub.status.idle": "2023-07-01T13:37:58.315839Z",
     "shell.execute_reply": "2023-07-01T13:37:58.314969Z"
    },
    "papermill": {
     "duration": 0.024923,
     "end_time": "2023-07-01T13:37:58.318034",
     "exception": false,
     "start_time": "2023-07-01T13:37:58.293111",
     "status": "completed"
    },
    "tags": []
   },
   "outputs": [],
   "source": [
    "from nltk.corpus import stopwords"
   ]
  },
  {
   "cell_type": "code",
   "execution_count": 31,
   "id": "8a700dec",
   "metadata": {
    "execution": {
     "iopub.execute_input": "2023-07-01T13:37:58.352220Z",
     "iopub.status.busy": "2023-07-01T13:37:58.351773Z",
     "iopub.status.idle": "2023-07-01T13:37:58.368897Z",
     "shell.execute_reply": "2023-07-01T13:37:58.368037Z"
    },
    "papermill": {
     "duration": 0.036467,
     "end_time": "2023-07-01T13:37:58.370988",
     "exception": false,
     "start_time": "2023-07-01T13:37:58.334521",
     "status": "completed"
    },
    "tags": []
   },
   "outputs": [
    {
     "data": {
      "text/plain": [
       "['i',\n",
       " 'me',\n",
       " 'my',\n",
       " 'myself',\n",
       " 'we',\n",
       " 'our',\n",
       " 'ours',\n",
       " 'ourselves',\n",
       " 'you',\n",
       " \"you're\",\n",
       " \"you've\",\n",
       " \"you'll\",\n",
       " \"you'd\",\n",
       " 'your',\n",
       " 'yours',\n",
       " 'yourself',\n",
       " 'yourselves',\n",
       " 'he',\n",
       " 'him',\n",
       " 'his',\n",
       " 'himself',\n",
       " 'she',\n",
       " \"she's\",\n",
       " 'her',\n",
       " 'hers',\n",
       " 'herself',\n",
       " 'it',\n",
       " \"it's\",\n",
       " 'its',\n",
       " 'itself',\n",
       " 'they',\n",
       " 'them',\n",
       " 'their',\n",
       " 'theirs',\n",
       " 'themselves',\n",
       " 'what',\n",
       " 'which',\n",
       " 'who',\n",
       " 'whom',\n",
       " 'this',\n",
       " 'that',\n",
       " \"that'll\",\n",
       " 'these',\n",
       " 'those',\n",
       " 'am',\n",
       " 'is',\n",
       " 'are',\n",
       " 'was',\n",
       " 'were',\n",
       " 'be',\n",
       " 'been',\n",
       " 'being',\n",
       " 'have',\n",
       " 'has',\n",
       " 'had',\n",
       " 'having',\n",
       " 'do',\n",
       " 'does',\n",
       " 'did',\n",
       " 'doing',\n",
       " 'a',\n",
       " 'an',\n",
       " 'the',\n",
       " 'and',\n",
       " 'but',\n",
       " 'if',\n",
       " 'or',\n",
       " 'because',\n",
       " 'as',\n",
       " 'until',\n",
       " 'while',\n",
       " 'of',\n",
       " 'at',\n",
       " 'by',\n",
       " 'for',\n",
       " 'with',\n",
       " 'about',\n",
       " 'against',\n",
       " 'between',\n",
       " 'into',\n",
       " 'through',\n",
       " 'during',\n",
       " 'before',\n",
       " 'after',\n",
       " 'above',\n",
       " 'below',\n",
       " 'to',\n",
       " 'from',\n",
       " 'up',\n",
       " 'down',\n",
       " 'in',\n",
       " 'out',\n",
       " 'on',\n",
       " 'off',\n",
       " 'over',\n",
       " 'under',\n",
       " 'again',\n",
       " 'further',\n",
       " 'then',\n",
       " 'once',\n",
       " 'here',\n",
       " 'there',\n",
       " 'when',\n",
       " 'where',\n",
       " 'why',\n",
       " 'how',\n",
       " 'all',\n",
       " 'any',\n",
       " 'both',\n",
       " 'each',\n",
       " 'few',\n",
       " 'more',\n",
       " 'most',\n",
       " 'other',\n",
       " 'some',\n",
       " 'such',\n",
       " 'no',\n",
       " 'nor',\n",
       " 'not',\n",
       " 'only',\n",
       " 'own',\n",
       " 'same',\n",
       " 'so',\n",
       " 'than',\n",
       " 'too',\n",
       " 'very',\n",
       " 's',\n",
       " 't',\n",
       " 'can',\n",
       " 'will',\n",
       " 'just',\n",
       " 'don',\n",
       " \"don't\",\n",
       " 'should',\n",
       " \"should've\",\n",
       " 'now',\n",
       " 'd',\n",
       " 'll',\n",
       " 'm',\n",
       " 'o',\n",
       " 're',\n",
       " 've',\n",
       " 'y',\n",
       " 'ain',\n",
       " 'aren',\n",
       " \"aren't\",\n",
       " 'couldn',\n",
       " \"couldn't\",\n",
       " 'didn',\n",
       " \"didn't\",\n",
       " 'doesn',\n",
       " \"doesn't\",\n",
       " 'hadn',\n",
       " \"hadn't\",\n",
       " 'hasn',\n",
       " \"hasn't\",\n",
       " 'haven',\n",
       " \"haven't\",\n",
       " 'isn',\n",
       " \"isn't\",\n",
       " 'ma',\n",
       " 'mightn',\n",
       " \"mightn't\",\n",
       " 'mustn',\n",
       " \"mustn't\",\n",
       " 'needn',\n",
       " \"needn't\",\n",
       " 'shan',\n",
       " \"shan't\",\n",
       " 'shouldn',\n",
       " \"shouldn't\",\n",
       " 'wasn',\n",
       " \"wasn't\",\n",
       " 'weren',\n",
       " \"weren't\",\n",
       " 'won',\n",
       " \"won't\",\n",
       " 'wouldn',\n",
       " \"wouldn't\"]"
      ]
     },
     "execution_count": 31,
     "metadata": {},
     "output_type": "execute_result"
    }
   ],
   "source": [
    "stopwords.words('english')"
   ]
  },
  {
   "cell_type": "code",
   "execution_count": 32,
   "id": "677dff6c",
   "metadata": {
    "execution": {
     "iopub.execute_input": "2023-07-01T13:37:58.405829Z",
     "iopub.status.busy": "2023-07-01T13:37:58.405251Z",
     "iopub.status.idle": "2023-07-01T13:37:58.411009Z",
     "shell.execute_reply": "2023-07-01T13:37:58.409945Z"
    },
    "papermill": {
     "duration": 0.025944,
     "end_time": "2023-07-01T13:37:58.413365",
     "exception": false,
     "start_time": "2023-07-01T13:37:58.387421",
     "status": "completed"
    },
    "tags": []
   },
   "outputs": [],
   "source": [
    "def remove_stopwords(text):\n",
    "    new_text =[]\n",
    "    for word in text.split():\n",
    "        if word in stopwords.words('english'):\n",
    "            new_text.append('')\n",
    "        else:\n",
    "            new_text.append(word)\n",
    "    x = new_text[:]\n",
    "    new_text.clear()\n",
    "    return \" \".join(x)"
   ]
  },
  {
   "cell_type": "code",
   "execution_count": 33,
   "id": "d2de000b",
   "metadata": {
    "execution": {
     "iopub.execute_input": "2023-07-01T13:37:58.447729Z",
     "iopub.status.busy": "2023-07-01T13:37:58.447330Z",
     "iopub.status.idle": "2023-07-01T13:37:58.459620Z",
     "shell.execute_reply": "2023-07-01T13:37:58.458406Z"
    },
    "papermill": {
     "duration": 0.032301,
     "end_time": "2023-07-01T13:37:58.461970",
     "exception": false,
     "start_time": "2023-07-01T13:37:58.429669",
     "status": "completed"
    },
    "tags": []
   },
   "outputs": [
    {
     "data": {
      "text/plain": [
       "'probably hence allowing   modify  copy without damaging  original,  reason  also works  strings    Python, Strings  arrays  bytes representing Unicode characters'"
      ]
     },
     "execution_count": 33,
     "metadata": {},
     "output_type": "execute_result"
    }
   ],
   "source": [
    "remove_stopwords('probably hence allowing you to modify your copy without damaging the original, the reason this also works for strings is that in Python, Strings are arrays of bytes representing Unicode characters')"
   ]
  },
  {
   "cell_type": "markdown",
   "id": "74e7c61b",
   "metadata": {
    "papermill": {
     "duration": 0.016911,
     "end_time": "2023-07-01T13:37:58.495550",
     "exception": false,
     "start_time": "2023-07-01T13:37:58.478639",
     "status": "completed"
    },
    "tags": []
   },
   "source": [
    "# Handling emojis"
   ]
  },
  {
   "cell_type": "code",
   "execution_count": 34,
   "id": "487e084f",
   "metadata": {
    "execution": {
     "iopub.execute_input": "2023-07-01T13:37:58.531410Z",
     "iopub.status.busy": "2023-07-01T13:37:58.530749Z",
     "iopub.status.idle": "2023-07-01T13:37:58.536260Z",
     "shell.execute_reply": "2023-07-01T13:37:58.535511Z"
    },
    "papermill": {
     "duration": 0.025554,
     "end_time": "2023-07-01T13:37:58.538413",
     "exception": false,
     "start_time": "2023-07-01T13:37:58.512859",
     "status": "completed"
    },
    "tags": []
   },
   "outputs": [],
   "source": [
    "#case 1 removing the emoji's\n",
    "import re\n",
    "def remove_emoji(string):\n",
    "    emoji_pattern = re.compile(\"[\"\n",
    "                           u\"\\U0001F600-\\U0001F64F\" # emoticons\n",
    "                           u\"\\U0001F300-\\U0001F5FF\" # symbols & pictographs\n",
    "                           u\"\\U0001F680-\\U0001F6FF\" # transport & map symbols\n",
    "                           u\"\\U0001F1E0-\\U0001F1FF\" # flags (iOS)\n",
    "                           u\"\\U00002702-\\U000027B0\"\n",
    "                           u\"\\U000024C2-\\U0001F251\"\n",
    "                           \"]+\", flags=re.UNICODE)\n",
    "    return emoji_pattern.sub(r'', string)"
   ]
  },
  {
   "cell_type": "code",
   "execution_count": 35,
   "id": "a45d37d2",
   "metadata": {
    "execution": {
     "iopub.execute_input": "2023-07-01T13:37:58.573722Z",
     "iopub.status.busy": "2023-07-01T13:37:58.572988Z",
     "iopub.status.idle": "2023-07-01T13:37:58.583809Z",
     "shell.execute_reply": "2023-07-01T13:37:58.582773Z"
    },
    "papermill": {
     "duration": 0.031142,
     "end_time": "2023-07-01T13:37:58.586210",
     "exception": false,
     "start_time": "2023-07-01T13:37:58.555068",
     "status": "completed"
    },
    "tags": []
   },
   "outputs": [
    {
     "data": {
      "text/plain": [
       "'Hilarious ! The feeling of making a sale , The feeling of actually fulfilling orders '"
      ]
     },
     "execution_count": 35,
     "metadata": {},
     "output_type": "execute_result"
    }
   ],
   "source": [
    "remove_emoji(\"Hilarious 😂! The feeling of making a sale 😎, The feeling of actually fulfilling orders 😒\")"
   ]
  },
  {
   "cell_type": "code",
   "execution_count": 36,
   "id": "1c877340",
   "metadata": {
    "execution": {
     "iopub.execute_input": "2023-07-01T13:37:58.622075Z",
     "iopub.status.busy": "2023-07-01T13:37:58.620953Z",
     "iopub.status.idle": "2023-07-01T13:37:58.693545Z",
     "shell.execute_reply": "2023-07-01T13:37:58.692082Z"
    },
    "papermill": {
     "duration": 0.093049,
     "end_time": "2023-07-01T13:37:58.696218",
     "exception": false,
     "start_time": "2023-07-01T13:37:58.603169",
     "status": "completed"
    },
    "tags": []
   },
   "outputs": [
    {
     "name": "stdout",
     "output_type": "stream",
     "text": [
      "The feeling of making a sale :smiling_face_with_sunglasses:\n"
     ]
    }
   ],
   "source": [
    "# case 2 Replacing the emoji\n",
    "import emoji \n",
    "print(emoji.demojize('The feeling of making a sale 😎'))"
   ]
  },
  {
   "cell_type": "code",
   "execution_count": 37,
   "id": "bc681bd7",
   "metadata": {
    "execution": {
     "iopub.execute_input": "2023-07-01T13:37:58.732248Z",
     "iopub.status.busy": "2023-07-01T13:37:58.731844Z",
     "iopub.status.idle": "2023-07-01T13:37:58.738031Z",
     "shell.execute_reply": "2023-07-01T13:37:58.736860Z"
    },
    "papermill": {
     "duration": 0.028045,
     "end_time": "2023-07-01T13:37:58.741295",
     "exception": false,
     "start_time": "2023-07-01T13:37:58.713250",
     "status": "completed"
    },
    "tags": []
   },
   "outputs": [
    {
     "name": "stdout",
     "output_type": "stream",
     "text": [
      "Meaning of this: :kissing_face_with_smiling_eyes:\n"
     ]
    }
   ],
   "source": [
    "import emoji \n",
    "print(emoji.demojize('Meaning of this: 😙'))"
   ]
  },
  {
   "cell_type": "markdown",
   "id": "f83d551a",
   "metadata": {
    "papermill": {
     "duration": 0.01689,
     "end_time": "2023-07-01T13:37:58.777925",
     "exception": false,
     "start_time": "2023-07-01T13:37:58.761035",
     "status": "completed"
    },
    "tags": []
   },
   "source": []
  },
  {
   "cell_type": "code",
   "execution_count": null,
   "id": "69f8933b",
   "metadata": {
    "papermill": {
     "duration": 0.01644,
     "end_time": "2023-07-01T13:37:58.811154",
     "exception": false,
     "start_time": "2023-07-01T13:37:58.794714",
     "status": "completed"
    },
    "tags": []
   },
   "outputs": [],
   "source": []
  }
 ],
 "metadata": {
  "kernelspec": {
   "display_name": "Python 3",
   "language": "python",
   "name": "python3"
  },
  "language_info": {
   "codemirror_mode": {
    "name": "ipython",
    "version": 3
   },
   "file_extension": ".py",
   "mimetype": "text/x-python",
   "name": "python",
   "nbconvert_exporter": "python",
   "pygments_lexer": "ipython3",
   "version": "3.10.10"
  },
  "papermill": {
   "default_parameters": {},
   "duration": 20.755656,
   "end_time": "2023-07-01T13:37:59.951384",
   "environment_variables": {},
   "exception": null,
   "input_path": "__notebook__.ipynb",
   "output_path": "__notebook__.ipynb",
   "parameters": {},
   "start_time": "2023-07-01T13:37:39.195728",
   "version": "2.4.0"
  }
 },
 "nbformat": 4,
 "nbformat_minor": 5
}

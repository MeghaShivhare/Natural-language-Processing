{
 "cells": [
  {
   "cell_type": "code",
   "execution_count": 1,
   "id": "a2ca1704",
   "metadata": {
    "_cell_guid": "b1076dfc-b9ad-4769-8c92-a6c4dae69d19",
    "_uuid": "8f2839f25d086af736a60e9eeb907d3b93b6e0e5",
    "execution": {
     "iopub.execute_input": "2023-07-01T14:33:40.083549Z",
     "iopub.status.busy": "2023-07-01T14:33:40.083171Z",
     "iopub.status.idle": "2023-07-01T14:33:40.101154Z",
     "shell.execute_reply": "2023-07-01T14:33:40.100038Z"
    },
    "papermill": {
     "duration": 0.044121,
     "end_time": "2023-07-01T14:33:40.103162",
     "exception": false,
     "start_time": "2023-07-01T14:33:40.059041",
     "status": "completed"
    },
    "tags": []
   },
   "outputs": [
    {
     "name": "stdout",
     "output_type": "stream",
     "text": [
      "/kaggle/input/imdb-dataset-of-50k-movie-reviews/IMDB Dataset.csv\n"
     ]
    }
   ],
   "source": [
    "# This Python 3 environment comes with many helpful analytics libraries installed\n",
    "# It is defined by the kaggle/python Docker image: https://github.com/kaggle/docker-python\n",
    "# For example, here's several helpful packages to load\n",
    "\n",
    "import numpy as np # linear algebra\n",
    "import pandas as pd # data processing, CSV file I/O (e.g. pd.read_csv)\n",
    "\n",
    "# Input data files are available in the read-only \"../input/\" directory\n",
    "# For example, running this (by clicking run or pressing Shift+Enter) will list all files under the input directory\n",
    "\n",
    "import os\n",
    "for dirname, _, filenames in os.walk('/kaggle/input'):\n",
    "    for filename in filenames:\n",
    "        print(os.path.join(dirname, filename))\n",
    "\n",
    "# You can write up to 20GB to the current directory (/kaggle/working/) that gets preserved as output when you create a version using \"Save & Run All\" \n",
    "# You can also write temporary files to /kaggle/temp/, but they won't be saved outside of the current session"
   ]
  },
  {
   "cell_type": "code",
   "execution_count": 2,
   "id": "f11af8c4",
   "metadata": {
    "execution": {
     "iopub.execute_input": "2023-07-01T14:33:40.148815Z",
     "iopub.status.busy": "2023-07-01T14:33:40.148104Z",
     "iopub.status.idle": "2023-07-01T14:33:41.502526Z",
     "shell.execute_reply": "2023-07-01T14:33:41.501420Z"
    },
    "papermill": {
     "duration": 1.379982,
     "end_time": "2023-07-01T14:33:41.505231",
     "exception": false,
     "start_time": "2023-07-01T14:33:40.125249",
     "status": "completed"
    },
    "tags": []
   },
   "outputs": [],
   "source": [
    "df = pd.read_csv('/kaggle/input/imdb-dataset-of-50k-movie-reviews/IMDB Dataset.csv')"
   ]
  },
  {
   "cell_type": "code",
   "execution_count": 3,
   "id": "dd6f0579",
   "metadata": {
    "execution": {
     "iopub.execute_input": "2023-07-01T14:33:41.549649Z",
     "iopub.status.busy": "2023-07-01T14:33:41.549248Z",
     "iopub.status.idle": "2023-07-01T14:33:41.577088Z",
     "shell.execute_reply": "2023-07-01T14:33:41.576198Z"
    },
    "papermill": {
     "duration": 0.052742,
     "end_time": "2023-07-01T14:33:41.579301",
     "exception": false,
     "start_time": "2023-07-01T14:33:41.526559",
     "status": "completed"
    },
    "tags": []
   },
   "outputs": [
    {
     "data": {
      "text/html": [
       "<div>\n",
       "<style scoped>\n",
       "    .dataframe tbody tr th:only-of-type {\n",
       "        vertical-align: middle;\n",
       "    }\n",
       "\n",
       "    .dataframe tbody tr th {\n",
       "        vertical-align: top;\n",
       "    }\n",
       "\n",
       "    .dataframe thead th {\n",
       "        text-align: right;\n",
       "    }\n",
       "</style>\n",
       "<table border=\"1\" class=\"dataframe\">\n",
       "  <thead>\n",
       "    <tr style=\"text-align: right;\">\n",
       "      <th></th>\n",
       "      <th>review</th>\n",
       "      <th>sentiment</th>\n",
       "    </tr>\n",
       "  </thead>\n",
       "  <tbody>\n",
       "    <tr>\n",
       "      <th>0</th>\n",
       "      <td>One of the other reviewers has mentioned that ...</td>\n",
       "      <td>positive</td>\n",
       "    </tr>\n",
       "    <tr>\n",
       "      <th>1</th>\n",
       "      <td>A wonderful little production. &lt;br /&gt;&lt;br /&gt;The...</td>\n",
       "      <td>positive</td>\n",
       "    </tr>\n",
       "    <tr>\n",
       "      <th>2</th>\n",
       "      <td>I thought this was a wonderful way to spend ti...</td>\n",
       "      <td>positive</td>\n",
       "    </tr>\n",
       "    <tr>\n",
       "      <th>3</th>\n",
       "      <td>Basically there's a family where a little boy ...</td>\n",
       "      <td>negative</td>\n",
       "    </tr>\n",
       "    <tr>\n",
       "      <th>4</th>\n",
       "      <td>Petter Mattei's \"Love in the Time of Money\" is...</td>\n",
       "      <td>positive</td>\n",
       "    </tr>\n",
       "  </tbody>\n",
       "</table>\n",
       "</div>"
      ],
      "text/plain": [
       "                                              review sentiment\n",
       "0  One of the other reviewers has mentioned that ...  positive\n",
       "1  A wonderful little production. <br /><br />The...  positive\n",
       "2  I thought this was a wonderful way to spend ti...  positive\n",
       "3  Basically there's a family where a little boy ...  negative\n",
       "4  Petter Mattei's \"Love in the Time of Money\" is...  positive"
      ]
     },
     "execution_count": 3,
     "metadata": {},
     "output_type": "execute_result"
    }
   ],
   "source": [
    "df.head()"
   ]
  },
  {
   "cell_type": "markdown",
   "id": "14cbcc41",
   "metadata": {
    "papermill": {
     "duration": 0.021094,
     "end_time": "2023-07-01T14:33:41.621956",
     "exception": false,
     "start_time": "2023-07-01T14:33:41.600862",
     "status": "completed"
    },
    "tags": []
   },
   "source": [
    "# Lowercase\n",
    "In order to perform basic cleanup one of the major steps could be to convert data into lowercase for example \"basically\" and \"Basically\" could be considered two different words by the machine in further stages like tokenization, increasing the amount of work "
   ]
  },
  {
   "cell_type": "code",
   "execution_count": 4,
   "id": "73f1c21e",
   "metadata": {
    "execution": {
     "iopub.execute_input": "2023-07-01T14:33:41.666745Z",
     "iopub.status.busy": "2023-07-01T14:33:41.666027Z",
     "iopub.status.idle": "2023-07-01T14:33:41.672877Z",
     "shell.execute_reply": "2023-07-01T14:33:41.671924Z"
    },
    "papermill": {
     "duration": 0.031665,
     "end_time": "2023-07-01T14:33:41.675097",
     "exception": false,
     "start_time": "2023-07-01T14:33:41.643432",
     "status": "completed"
    },
    "tags": []
   },
   "outputs": [
    {
     "data": {
      "text/plain": [
       "'petter mattei\\'s \"love in the time of money\" is a visually stunning film to watch. mr. mattei offers us a vivid portrait about human relations. this is a movie that seems to be telling us what money, power and success do to people in the different situations we encounter. <br /><br />this being a variation on the arthur schnitzler\\'s play about the same theme, the director transfers the action to the present time new york where all these different characters meet and connect. each one is connected in one way, or another to the next person, but no one seems to know the previous point of contact. stylishly, the film has a sophisticated luxurious look. we are taken to see how these people live and the world they live in their own habitat.<br /><br />the only thing one gets out of all these souls in the picture is the different stages of loneliness each one inhabits. a big city is not exactly the best place in which human relations find sincere fulfillment, as one discerns is the case with most of the people we encounter.<br /><br />the acting is good under mr. mattei\\'s direction. steve buscemi, rosario dawson, carol kane, michael imperioli, adrian grenier, and the rest of the talented cast, make these characters come alive.<br /><br />we wish mr. mattei good luck and await anxiously for his next work.'"
      ]
     },
     "execution_count": 4,
     "metadata": {},
     "output_type": "execute_result"
    }
   ],
   "source": [
    "#converts the row at index 4\n",
    "df['review'][4].lower()"
   ]
  },
  {
   "cell_type": "code",
   "execution_count": 5,
   "id": "5d01d40e",
   "metadata": {
    "execution": {
     "iopub.execute_input": "2023-07-01T14:33:41.720256Z",
     "iopub.status.busy": "2023-07-01T14:33:41.719900Z",
     "iopub.status.idle": "2023-07-01T14:33:41.925585Z",
     "shell.execute_reply": "2023-07-01T14:33:41.924229Z"
    },
    "papermill": {
     "duration": 0.231402,
     "end_time": "2023-07-01T14:33:41.928118",
     "exception": false,
     "start_time": "2023-07-01T14:33:41.696716",
     "status": "completed"
    },
    "tags": []
   },
   "outputs": [
    {
     "data": {
      "text/html": [
       "<div>\n",
       "<style scoped>\n",
       "    .dataframe tbody tr th:only-of-type {\n",
       "        vertical-align: middle;\n",
       "    }\n",
       "\n",
       "    .dataframe tbody tr th {\n",
       "        vertical-align: top;\n",
       "    }\n",
       "\n",
       "    .dataframe thead th {\n",
       "        text-align: right;\n",
       "    }\n",
       "</style>\n",
       "<table border=\"1\" class=\"dataframe\">\n",
       "  <thead>\n",
       "    <tr style=\"text-align: right;\">\n",
       "      <th></th>\n",
       "      <th>review</th>\n",
       "      <th>sentiment</th>\n",
       "    </tr>\n",
       "  </thead>\n",
       "  <tbody>\n",
       "    <tr>\n",
       "      <th>0</th>\n",
       "      <td>one of the other reviewers has mentioned that ...</td>\n",
       "      <td>positive</td>\n",
       "    </tr>\n",
       "    <tr>\n",
       "      <th>1</th>\n",
       "      <td>a wonderful little production. &lt;br /&gt;&lt;br /&gt;the...</td>\n",
       "      <td>positive</td>\n",
       "    </tr>\n",
       "    <tr>\n",
       "      <th>2</th>\n",
       "      <td>i thought this was a wonderful way to spend ti...</td>\n",
       "      <td>positive</td>\n",
       "    </tr>\n",
       "    <tr>\n",
       "      <th>3</th>\n",
       "      <td>basically there's a family where a little boy ...</td>\n",
       "      <td>negative</td>\n",
       "    </tr>\n",
       "    <tr>\n",
       "      <th>4</th>\n",
       "      <td>petter mattei's \"love in the time of money\" is...</td>\n",
       "      <td>positive</td>\n",
       "    </tr>\n",
       "    <tr>\n",
       "      <th>...</th>\n",
       "      <td>...</td>\n",
       "      <td>...</td>\n",
       "    </tr>\n",
       "    <tr>\n",
       "      <th>49995</th>\n",
       "      <td>i thought this movie did a down right good job...</td>\n",
       "      <td>positive</td>\n",
       "    </tr>\n",
       "    <tr>\n",
       "      <th>49996</th>\n",
       "      <td>bad plot, bad dialogue, bad acting, idiotic di...</td>\n",
       "      <td>negative</td>\n",
       "    </tr>\n",
       "    <tr>\n",
       "      <th>49997</th>\n",
       "      <td>i am a catholic taught in parochial elementary...</td>\n",
       "      <td>negative</td>\n",
       "    </tr>\n",
       "    <tr>\n",
       "      <th>49998</th>\n",
       "      <td>i'm going to have to disagree with the previou...</td>\n",
       "      <td>negative</td>\n",
       "    </tr>\n",
       "    <tr>\n",
       "      <th>49999</th>\n",
       "      <td>no one expects the star trek movies to be high...</td>\n",
       "      <td>negative</td>\n",
       "    </tr>\n",
       "  </tbody>\n",
       "</table>\n",
       "<p>50000 rows × 2 columns</p>\n",
       "</div>"
      ],
      "text/plain": [
       "                                                  review sentiment\n",
       "0      one of the other reviewers has mentioned that ...  positive\n",
       "1      a wonderful little production. <br /><br />the...  positive\n",
       "2      i thought this was a wonderful way to spend ti...  positive\n",
       "3      basically there's a family where a little boy ...  negative\n",
       "4      petter mattei's \"love in the time of money\" is...  positive\n",
       "...                                                  ...       ...\n",
       "49995  i thought this movie did a down right good job...  positive\n",
       "49996  bad plot, bad dialogue, bad acting, idiotic di...  negative\n",
       "49997  i am a catholic taught in parochial elementary...  negative\n",
       "49998  i'm going to have to disagree with the previou...  negative\n",
       "49999  no one expects the star trek movies to be high...  negative\n",
       "\n",
       "[50000 rows x 2 columns]"
      ]
     },
     "execution_count": 5,
     "metadata": {},
     "output_type": "execute_result"
    }
   ],
   "source": [
    "#to convert the whole dataset and assign it to df \n",
    "df['review'] = df['review'].str.lower()\n",
    "df"
   ]
  },
  {
   "cell_type": "markdown",
   "id": "17dbbc5c",
   "metadata": {
    "papermill": {
     "duration": 0.020916,
     "end_time": "2023-07-01T14:33:41.971523",
     "exception": false,
     "start_time": "2023-07-01T14:33:41.950607",
     "status": "completed"
    },
    "tags": []
   },
   "source": [
    "# Remove HTML Tags\n",
    "HTML tags are used to make the browser understand but they are of no need here in analysis"
   ]
  },
  {
   "cell_type": "code",
   "execution_count": 6,
   "id": "0291ec10",
   "metadata": {
    "execution": {
     "iopub.execute_input": "2023-07-01T14:33:42.016445Z",
     "iopub.status.busy": "2023-07-01T14:33:42.016059Z",
     "iopub.status.idle": "2023-07-01T14:33:42.021921Z",
     "shell.execute_reply": "2023-07-01T14:33:42.020454Z"
    },
    "papermill": {
     "duration": 0.031457,
     "end_time": "2023-07-01T14:33:42.024146",
     "exception": false,
     "start_time": "2023-07-01T14:33:41.992689",
     "status": "completed"
    },
    "tags": []
   },
   "outputs": [],
   "source": [
    "import re\n",
    "def remove_html_tags(text):\n",
    "    pattern = re.compile('<.*?>')\n",
    "    return pattern.sub(r'', text)"
   ]
  },
  {
   "cell_type": "code",
   "execution_count": 7,
   "id": "67d1b548",
   "metadata": {
    "execution": {
     "iopub.execute_input": "2023-07-01T14:33:42.070119Z",
     "iopub.status.busy": "2023-07-01T14:33:42.069046Z",
     "iopub.status.idle": "2023-07-01T14:33:42.074298Z",
     "shell.execute_reply": "2023-07-01T14:33:42.073249Z"
    },
    "papermill": {
     "duration": 0.030424,
     "end_time": "2023-07-01T14:33:42.076610",
     "exception": false,
     "start_time": "2023-07-01T14:33:42.046186",
     "status": "completed"
    },
    "tags": []
   },
   "outputs": [],
   "source": [
    "text = '<html><body><p>Hello this is to test the function</p></body></html>'"
   ]
  },
  {
   "cell_type": "code",
   "execution_count": 8,
   "id": "2bc35fc3",
   "metadata": {
    "execution": {
     "iopub.execute_input": "2023-07-01T14:33:42.123117Z",
     "iopub.status.busy": "2023-07-01T14:33:42.122019Z",
     "iopub.status.idle": "2023-07-01T14:33:42.128673Z",
     "shell.execute_reply": "2023-07-01T14:33:42.127661Z"
    },
    "papermill": {
     "duration": 0.031244,
     "end_time": "2023-07-01T14:33:42.130871",
     "exception": false,
     "start_time": "2023-07-01T14:33:42.099627",
     "status": "completed"
    },
    "tags": []
   },
   "outputs": [
    {
     "data": {
      "text/plain": [
       "'Hello this is to test the function'"
      ]
     },
     "execution_count": 8,
     "metadata": {},
     "output_type": "execute_result"
    }
   ],
   "source": [
    "remove_html_tags(text)"
   ]
  },
  {
   "cell_type": "code",
   "execution_count": 9,
   "id": "b4eda134",
   "metadata": {
    "execution": {
     "iopub.execute_input": "2023-07-01T14:33:42.176524Z",
     "iopub.status.busy": "2023-07-01T14:33:42.175459Z",
     "iopub.status.idle": "2023-07-01T14:33:42.443841Z",
     "shell.execute_reply": "2023-07-01T14:33:42.442874Z"
    },
    "papermill": {
     "duration": 0.293257,
     "end_time": "2023-07-01T14:33:42.446065",
     "exception": false,
     "start_time": "2023-07-01T14:33:42.152808",
     "status": "completed"
    },
    "tags": []
   },
   "outputs": [
    {
     "data": {
      "text/plain": [
       "0        one of the other reviewers has mentioned that ...\n",
       "1        a wonderful little production. the filming tec...\n",
       "2        i thought this was a wonderful way to spend ti...\n",
       "3        basically there's a family where a little boy ...\n",
       "4        petter mattei's \"love in the time of money\" is...\n",
       "                               ...                        \n",
       "49995    i thought this movie did a down right good job...\n",
       "49996    bad plot, bad dialogue, bad acting, idiotic di...\n",
       "49997    i am a catholic taught in parochial elementary...\n",
       "49998    i'm going to have to disagree with the previou...\n",
       "49999    no one expects the star trek movies to be high...\n",
       "Name: review, Length: 50000, dtype: object"
      ]
     },
     "execution_count": 9,
     "metadata": {},
     "output_type": "execute_result"
    }
   ],
   "source": [
    "#applying our function to dataset\n",
    "df['review'] = df['review'].apply(remove_html_tags)\n",
    "df['review']"
   ]
  },
  {
   "cell_type": "code",
   "execution_count": 10,
   "id": "b3bd0530",
   "metadata": {
    "execution": {
     "iopub.execute_input": "2023-07-01T14:33:42.494223Z",
     "iopub.status.busy": "2023-07-01T14:33:42.493845Z",
     "iopub.status.idle": "2023-07-01T14:33:42.500846Z",
     "shell.execute_reply": "2023-07-01T14:33:42.499761Z"
    },
    "papermill": {
     "duration": 0.034563,
     "end_time": "2023-07-01T14:33:42.503140",
     "exception": false,
     "start_time": "2023-07-01T14:33:42.468577",
     "status": "completed"
    },
    "tags": []
   },
   "outputs": [
    {
     "data": {
      "text/plain": [
       "'petter mattei\\'s \"love in the time of money\" is a visually stunning film to watch. mr. mattei offers us a vivid portrait about human relations. this is a movie that seems to be telling us what money, power and success do to people in the different situations we encounter. this being a variation on the arthur schnitzler\\'s play about the same theme, the director transfers the action to the present time new york where all these different characters meet and connect. each one is connected in one way, or another to the next person, but no one seems to know the previous point of contact. stylishly, the film has a sophisticated luxurious look. we are taken to see how these people live and the world they live in their own habitat.the only thing one gets out of all these souls in the picture is the different stages of loneliness each one inhabits. a big city is not exactly the best place in which human relations find sincere fulfillment, as one discerns is the case with most of the people we encounter.the acting is good under mr. mattei\\'s direction. steve buscemi, rosario dawson, carol kane, michael imperioli, adrian grenier, and the rest of the talented cast, make these characters come alive.we wish mr. mattei good luck and await anxiously for his next work.'"
      ]
     },
     "execution_count": 10,
     "metadata": {},
     "output_type": "execute_result"
    }
   ],
   "source": [
    "df['review'][4]"
   ]
  },
  {
   "cell_type": "markdown",
   "id": "f7fd87dd",
   "metadata": {
    "papermill": {
     "duration": 0.022271,
     "end_time": "2023-07-01T14:33:42.547695",
     "exception": false,
     "start_time": "2023-07-01T14:33:42.525424",
     "status": "completed"
    },
    "tags": []
   },
   "source": [
    "# Remove URLS\n",
    "Remove URLS using regular expression pattern : https?://\\S+|www\\.\\S+"
   ]
  },
  {
   "cell_type": "code",
   "execution_count": 11,
   "id": "b89fe3d7",
   "metadata": {
    "execution": {
     "iopub.execute_input": "2023-07-01T14:33:42.594764Z",
     "iopub.status.busy": "2023-07-01T14:33:42.594094Z",
     "iopub.status.idle": "2023-07-01T14:33:42.599407Z",
     "shell.execute_reply": "2023-07-01T14:33:42.598610Z"
    },
    "papermill": {
     "duration": 0.031495,
     "end_time": "2023-07-01T14:33:42.601615",
     "exception": false,
     "start_time": "2023-07-01T14:33:42.570120",
     "status": "completed"
    },
    "tags": []
   },
   "outputs": [],
   "source": [
    " def remove_urls(text):\n",
    "        pattern = re.compile('https?://\\S+|www\\.\\S+')\n",
    "        return pattern.sub(r'', text)\n",
    "        "
   ]
  },
  {
   "cell_type": "code",
   "execution_count": 12,
   "id": "79a5bc91",
   "metadata": {
    "execution": {
     "iopub.execute_input": "2023-07-01T14:33:42.647271Z",
     "iopub.status.busy": "2023-07-01T14:33:42.646935Z",
     "iopub.status.idle": "2023-07-01T14:33:42.651639Z",
     "shell.execute_reply": "2023-07-01T14:33:42.650594Z"
    },
    "papermill": {
     "duration": 0.030612,
     "end_time": "2023-07-01T14:33:42.653900",
     "exception": false,
     "start_time": "2023-07-01T14:33:42.623288",
     "status": "completed"
    },
    "tags": []
   },
   "outputs": [],
   "source": [
    "text1 = 'check out my notebook https://www.kaggle.com/meghashivhare/text-preprocessing'\n",
    "text2 = 'check out my notebook http://www.kaggle.com/meghashivhare/text-preprocessing'\n",
    "text3 = 'search on google - www.google.com'"
   ]
  },
  {
   "cell_type": "code",
   "execution_count": 13,
   "id": "15d19df8",
   "metadata": {
    "execution": {
     "iopub.execute_input": "2023-07-01T14:33:42.700519Z",
     "iopub.status.busy": "2023-07-01T14:33:42.700163Z",
     "iopub.status.idle": "2023-07-01T14:33:42.705820Z",
     "shell.execute_reply": "2023-07-01T14:33:42.705073Z"
    },
    "papermill": {
     "duration": 0.03127,
     "end_time": "2023-07-01T14:33:42.707900",
     "exception": false,
     "start_time": "2023-07-01T14:33:42.676630",
     "status": "completed"
    },
    "tags": []
   },
   "outputs": [
    {
     "data": {
      "text/plain": [
       "'check out my notebook '"
      ]
     },
     "execution_count": 13,
     "metadata": {},
     "output_type": "execute_result"
    }
   ],
   "source": [
    "remove_urls(text1)"
   ]
  },
  {
   "cell_type": "code",
   "execution_count": 14,
   "id": "81b93025",
   "metadata": {
    "execution": {
     "iopub.execute_input": "2023-07-01T14:33:42.755021Z",
     "iopub.status.busy": "2023-07-01T14:33:42.754658Z",
     "iopub.status.idle": "2023-07-01T14:33:42.760938Z",
     "shell.execute_reply": "2023-07-01T14:33:42.759991Z"
    },
    "papermill": {
     "duration": 0.032335,
     "end_time": "2023-07-01T14:33:42.763085",
     "exception": false,
     "start_time": "2023-07-01T14:33:42.730750",
     "status": "completed"
    },
    "tags": []
   },
   "outputs": [
    {
     "data": {
      "text/plain": [
       "'check out my notebook '"
      ]
     },
     "execution_count": 14,
     "metadata": {},
     "output_type": "execute_result"
    }
   ],
   "source": [
    "remove_urls(text2)"
   ]
  },
  {
   "cell_type": "code",
   "execution_count": 15,
   "id": "2fc42e3c",
   "metadata": {
    "execution": {
     "iopub.execute_input": "2023-07-01T14:33:42.809485Z",
     "iopub.status.busy": "2023-07-01T14:33:42.809086Z",
     "iopub.status.idle": "2023-07-01T14:33:42.815584Z",
     "shell.execute_reply": "2023-07-01T14:33:42.814595Z"
    },
    "papermill": {
     "duration": 0.032491,
     "end_time": "2023-07-01T14:33:42.817692",
     "exception": false,
     "start_time": "2023-07-01T14:33:42.785201",
     "status": "completed"
    },
    "tags": []
   },
   "outputs": [
    {
     "data": {
      "text/plain": [
       "'search on google - '"
      ]
     },
     "execution_count": 15,
     "metadata": {},
     "output_type": "execute_result"
    }
   ],
   "source": [
    "remove_urls(text3)"
   ]
  },
  {
   "cell_type": "markdown",
   "id": "b913a707",
   "metadata": {
    "papermill": {
     "duration": 0.021993,
     "end_time": "2023-07-01T14:33:42.862177",
     "exception": false,
     "start_time": "2023-07-01T14:33:42.840184",
     "status": "completed"
    },
    "tags": []
   },
   "source": [
    "# Remove Punctuations\n",
    "Now we will remove punctuations (! , # etc) <br>\n",
    "Reason <br>\n",
    "Tokenization stage - <br>\n",
    "Case 1 - Machine will treat words, punctuations separately where things like punctuations might be of no use (this might differ according to the project you're making) and will make the document lengthy. <br>\n",
    "example - Hello! how are you? <br>\n",
    "will be treated as <br> 1-hello <br> 2-! <br> 3-how <br>.....and so on <br> where storing ! and ? makes no sense <br>\n",
    "Case 2 - Machine will treat punctuations with word as one <br>\n",
    "above example will be treated as <br>1-hello!<br> 2-how<br> 3-are <br>4-you? <br>\n",
    "but now hello and hello? will be considered as 2 different tokens further confusing the model"
   ]
  },
  {
   "cell_type": "code",
   "execution_count": 16,
   "id": "a35c07a4",
   "metadata": {
    "execution": {
     "iopub.execute_input": "2023-07-01T14:33:42.908309Z",
     "iopub.status.busy": "2023-07-01T14:33:42.907925Z",
     "iopub.status.idle": "2023-07-01T14:33:42.914557Z",
     "shell.execute_reply": "2023-07-01T14:33:42.913603Z"
    },
    "papermill": {
     "duration": 0.032438,
     "end_time": "2023-07-01T14:33:42.916713",
     "exception": false,
     "start_time": "2023-07-01T14:33:42.884275",
     "status": "completed"
    },
    "tags": []
   },
   "outputs": [
    {
     "data": {
      "text/plain": [
       "'!\"#$%&\\'()*+,-./:;<=>?@[\\\\]^_`{|}~'"
      ]
     },
     "execution_count": 16,
     "metadata": {},
     "output_type": "execute_result"
    }
   ],
   "source": [
    "import string,time\n",
    "string.punctuation"
   ]
  },
  {
   "cell_type": "code",
   "execution_count": 17,
   "id": "363aa4de",
   "metadata": {
    "execution": {
     "iopub.execute_input": "2023-07-01T14:33:42.963473Z",
     "iopub.status.busy": "2023-07-01T14:33:42.963082Z",
     "iopub.status.idle": "2023-07-01T14:33:42.967444Z",
     "shell.execute_reply": "2023-07-01T14:33:42.966594Z"
    },
    "papermill": {
     "duration": 0.029618,
     "end_time": "2023-07-01T14:33:42.969236",
     "exception": false,
     "start_time": "2023-07-01T14:33:42.939618",
     "status": "completed"
    },
    "tags": []
   },
   "outputs": [],
   "source": [
    " exclude = string.punctuation"
   ]
  },
  {
   "cell_type": "code",
   "execution_count": 18,
   "id": "ea182779",
   "metadata": {
    "execution": {
     "iopub.execute_input": "2023-07-01T14:33:43.016175Z",
     "iopub.status.busy": "2023-07-01T14:33:43.015771Z",
     "iopub.status.idle": "2023-07-01T14:33:43.021587Z",
     "shell.execute_reply": "2023-07-01T14:33:43.020218Z"
    },
    "papermill": {
     "duration": 0.032245,
     "end_time": "2023-07-01T14:33:43.023663",
     "exception": false,
     "start_time": "2023-07-01T14:33:42.991418",
     "status": "completed"
    },
    "tags": []
   },
   "outputs": [],
   "source": [
    "#function made from scratch\n",
    "def remove_punc(text):\n",
    "    for char in exclude:\n",
    "        text = text.replace(char,'')\n",
    "    return text"
   ]
  },
  {
   "cell_type": "code",
   "execution_count": 19,
   "id": "34587044",
   "metadata": {
    "execution": {
     "iopub.execute_input": "2023-07-01T14:33:43.071929Z",
     "iopub.status.busy": "2023-07-01T14:33:43.071478Z",
     "iopub.status.idle": "2023-07-01T14:33:43.076446Z",
     "shell.execute_reply": "2023-07-01T14:33:43.075421Z"
    },
    "papermill": {
     "duration": 0.031972,
     "end_time": "2023-07-01T14:33:43.078670",
     "exception": false,
     "start_time": "2023-07-01T14:33:43.046698",
     "status": "completed"
    },
    "tags": []
   },
   "outputs": [],
   "source": [
    "text = \"Some? string, with! punctuations#\""
   ]
  },
  {
   "cell_type": "code",
   "execution_count": 20,
   "id": "857d6ee9",
   "metadata": {
    "execution": {
     "iopub.execute_input": "2023-07-01T14:33:43.126407Z",
     "iopub.status.busy": "2023-07-01T14:33:43.126017Z",
     "iopub.status.idle": "2023-07-01T14:33:43.132156Z",
     "shell.execute_reply": "2023-07-01T14:33:43.131434Z"
    },
    "papermill": {
     "duration": 0.032062,
     "end_time": "2023-07-01T14:33:43.134065",
     "exception": false,
     "start_time": "2023-07-01T14:33:43.102003",
     "status": "completed"
    },
    "tags": []
   },
   "outputs": [
    {
     "data": {
      "text/plain": [
       "'Some string with punctuations'"
      ]
     },
     "execution_count": 20,
     "metadata": {},
     "output_type": "execute_result"
    }
   ],
   "source": [
    "remove_punc(text)"
   ]
  },
  {
   "cell_type": "code",
   "execution_count": 21,
   "id": "9047524b",
   "metadata": {
    "execution": {
     "iopub.execute_input": "2023-07-01T14:33:43.180418Z",
     "iopub.status.busy": "2023-07-01T14:33:43.180031Z",
     "iopub.status.idle": "2023-07-01T14:33:43.186092Z",
     "shell.execute_reply": "2023-07-01T14:33:43.185043Z"
    },
    "papermill": {
     "duration": 0.032039,
     "end_time": "2023-07-01T14:33:43.188626",
     "exception": false,
     "start_time": "2023-07-01T14:33:43.156587",
     "status": "completed"
    },
    "tags": []
   },
   "outputs": [
    {
     "name": "stdout",
     "output_type": "stream",
     "text": [
      "Some string with punctuations\n",
      "0.7688999176025391\n"
     ]
    }
   ],
   "source": [
    "#let's calculate the time taken \n",
    "start = time.time()\n",
    "print(remove_punc(text))\n",
    "time1 = time.time() - start\n",
    "print(time1*5000)"
   ]
  },
  {
   "cell_type": "code",
   "execution_count": 22,
   "id": "a0c11976",
   "metadata": {
    "execution": {
     "iopub.execute_input": "2023-07-01T14:33:43.236586Z",
     "iopub.status.busy": "2023-07-01T14:33:43.235816Z",
     "iopub.status.idle": "2023-07-01T14:33:43.240897Z",
     "shell.execute_reply": "2023-07-01T14:33:43.239837Z"
    },
    "papermill": {
     "duration": 0.031696,
     "end_time": "2023-07-01T14:33:43.243125",
     "exception": false,
     "start_time": "2023-07-01T14:33:43.211429",
     "status": "completed"
    },
    "tags": []
   },
   "outputs": [],
   "source": [
    "#the time taken is more hence let's try another technique\n",
    "def remove_punc1(text):\n",
    "    return text.translate(str.maketrans('','',exclude))"
   ]
  },
  {
   "cell_type": "code",
   "execution_count": 23,
   "id": "692ff44b",
   "metadata": {
    "execution": {
     "iopub.execute_input": "2023-07-01T14:33:43.290391Z",
     "iopub.status.busy": "2023-07-01T14:33:43.290012Z",
     "iopub.status.idle": "2023-07-01T14:33:43.297657Z",
     "shell.execute_reply": "2023-07-01T14:33:43.295736Z"
    },
    "papermill": {
     "duration": 0.034135,
     "end_time": "2023-07-01T14:33:43.300098",
     "exception": false,
     "start_time": "2023-07-01T14:33:43.265963",
     "status": "completed"
    },
    "tags": []
   },
   "outputs": [
    {
     "name": "stdout",
     "output_type": "stream",
     "text": [
      "Some string with punctuations\n",
      "0.6830692291259766\n"
     ]
    }
   ],
   "source": [
    "start = time.time()\n",
    "print(remove_punc1(text))\n",
    "time1 = time.time() - start\n",
    "print(time1*5000)"
   ]
  },
  {
   "cell_type": "code",
   "execution_count": 24,
   "id": "ca89f6e1",
   "metadata": {
    "execution": {
     "iopub.execute_input": "2023-07-01T14:33:43.348195Z",
     "iopub.status.busy": "2023-07-01T14:33:43.347854Z",
     "iopub.status.idle": "2023-07-01T14:33:44.639590Z",
     "shell.execute_reply": "2023-07-01T14:33:44.638627Z"
    },
    "papermill": {
     "duration": 1.3182,
     "end_time": "2023-07-01T14:33:44.641956",
     "exception": false,
     "start_time": "2023-07-01T14:33:43.323756",
     "status": "completed"
    },
    "tags": []
   },
   "outputs": [
    {
     "data": {
      "text/plain": [
       "'petter matteis love in the time of money is a visually stunning film to watch mr mattei offers us a vivid portrait about human relations this is a movie that seems to be telling us what money power and success do to people in the different situations we encounter this being a variation on the arthur schnitzlers play about the same theme the director transfers the action to the present time new york where all these different characters meet and connect each one is connected in one way or another to the next person but no one seems to know the previous point of contact stylishly the film has a sophisticated luxurious look we are taken to see how these people live and the world they live in their own habitatthe only thing one gets out of all these souls in the picture is the different stages of loneliness each one inhabits a big city is not exactly the best place in which human relations find sincere fulfillment as one discerns is the case with most of the people we encounterthe acting is good under mr matteis direction steve buscemi rosario dawson carol kane michael imperioli adrian grenier and the rest of the talented cast make these characters come alivewe wish mr mattei good luck and await anxiously for his next work'"
      ]
     },
     "execution_count": 24,
     "metadata": {},
     "output_type": "execute_result"
    }
   ],
   "source": [
    "df['review'] = df['review'].apply(remove_punc1)\n",
    "df['review'][4]"
   ]
  },
  {
   "cell_type": "markdown",
   "id": "8e9c0a56",
   "metadata": {
    "papermill": {
     "duration": 0.022654,
     "end_time": "2023-07-01T14:33:44.687272",
     "exception": false,
     "start_time": "2023-07-01T14:33:44.664618",
     "status": "completed"
    },
    "tags": []
   },
   "source": [
    "# Chat word Treatment\n",
    "Converting social media abbreviations like lmao, rofl, asap back to orginal forms using python dictonary "
   ]
  },
  {
   "cell_type": "code",
   "execution_count": 25,
   "id": "3ac410ee",
   "metadata": {
    "execution": {
     "iopub.execute_input": "2023-07-01T14:33:44.734164Z",
     "iopub.status.busy": "2023-07-01T14:33:44.733821Z",
     "iopub.status.idle": "2023-07-01T14:33:44.738954Z",
     "shell.execute_reply": "2023-07-01T14:33:44.737759Z"
    },
    "papermill": {
     "duration": 0.031017,
     "end_time": "2023-07-01T14:33:44.741024",
     "exception": false,
     "start_time": "2023-07-01T14:33:44.710007",
     "status": "completed"
    },
    "tags": []
   },
   "outputs": [],
   "source": [
    "chat_words = { \"AFAIK\":\"As Far As I Know\", \"AFK\" : \"Away From Keyboard\",\n",
    "\"ASAP\":\"As Soon As Possible\",\n",
    "\"ATK\":\"At The Keyboard\",\n",
    "\"BRB\":\"Be Right Back\",\n",
    "\"B4N\":\"Bye For Now\",\n",
    "\"TTYL\":\"Talk To You Later\" } "
   ]
  },
  {
   "cell_type": "code",
   "execution_count": 26,
   "id": "afcd443c",
   "metadata": {
    "execution": {
     "iopub.execute_input": "2023-07-01T14:33:44.787136Z",
     "iopub.status.busy": "2023-07-01T14:33:44.786773Z",
     "iopub.status.idle": "2023-07-01T14:33:44.793147Z",
     "shell.execute_reply": "2023-07-01T14:33:44.792070Z"
    },
    "papermill": {
     "duration": 0.03166,
     "end_time": "2023-07-01T14:33:44.795158",
     "exception": false,
     "start_time": "2023-07-01T14:33:44.763498",
     "status": "completed"
    },
    "tags": []
   },
   "outputs": [
    {
     "data": {
      "text/plain": [
       "{'AFAIK': 'As Far As I Know',\n",
       " 'AFK': 'Away From Keyboard',\n",
       " 'ASAP': 'As Soon As Possible',\n",
       " 'ATK': 'At The Keyboard',\n",
       " 'BRB': 'Be Right Back',\n",
       " 'B4N': 'Bye For Now',\n",
       " 'TTYL': 'Talk To You Later'}"
      ]
     },
     "execution_count": 26,
     "metadata": {},
     "output_type": "execute_result"
    }
   ],
   "source": [
    "chat_words"
   ]
  },
  {
   "cell_type": "code",
   "execution_count": 27,
   "id": "952569f3",
   "metadata": {
    "execution": {
     "iopub.execute_input": "2023-07-01T14:33:44.842390Z",
     "iopub.status.busy": "2023-07-01T14:33:44.841997Z",
     "iopub.status.idle": "2023-07-01T14:33:44.847827Z",
     "shell.execute_reply": "2023-07-01T14:33:44.846812Z"
    },
    "papermill": {
     "duration": 0.032216,
     "end_time": "2023-07-01T14:33:44.849925",
     "exception": false,
     "start_time": "2023-07-01T14:33:44.817709",
     "status": "completed"
    },
    "tags": []
   },
   "outputs": [],
   "source": [
    "def chat_conversion(text):\n",
    "    new_text = []\n",
    "    for w in text.split():\n",
    "        if w.upper() in chat_words:\n",
    "            new_text.append(chat_words[w.upper()])\n",
    "        else:\n",
    "            new_text.append(w)\n",
    "#     return \" \"..join(new_text)\n",
    "    return \" \".join(new_text)"
   ]
  },
  {
   "cell_type": "code",
   "execution_count": 28,
   "id": "ce213448",
   "metadata": {
    "execution": {
     "iopub.execute_input": "2023-07-01T14:33:44.904061Z",
     "iopub.status.busy": "2023-07-01T14:33:44.903414Z",
     "iopub.status.idle": "2023-07-01T14:33:44.910329Z",
     "shell.execute_reply": "2023-07-01T14:33:44.909309Z"
    },
    "papermill": {
     "duration": 0.03437,
     "end_time": "2023-07-01T14:33:44.912581",
     "exception": false,
     "start_time": "2023-07-01T14:33:44.878211",
     "status": "completed"
    },
    "tags": []
   },
   "outputs": [
    {
     "data": {
      "text/plain": [
       "\"I'll call you As Soon As Possible\""
      ]
     },
     "execution_count": 28,
     "metadata": {},
     "output_type": "execute_result"
    }
   ],
   "source": [
    "chat_conversion(\"I'll call you asap\")"
   ]
  },
  {
   "cell_type": "markdown",
   "id": "50a4b9ab",
   "metadata": {
    "papermill": {
     "duration": 0.022795,
     "end_time": "2023-07-01T14:33:44.959088",
     "exception": false,
     "start_time": "2023-07-01T14:33:44.936293",
     "status": "completed"
    },
    "tags": []
   },
   "source": [
    "# Spelling Correction"
   ]
  },
  {
   "cell_type": "code",
   "execution_count": 29,
   "id": "a9c69958",
   "metadata": {
    "execution": {
     "iopub.execute_input": "2023-07-01T14:33:45.007445Z",
     "iopub.status.busy": "2023-07-01T14:33:45.007084Z",
     "iopub.status.idle": "2023-07-01T14:33:46.952753Z",
     "shell.execute_reply": "2023-07-01T14:33:46.951713Z"
    },
    "papermill": {
     "duration": 1.972591,
     "end_time": "2023-07-01T14:33:46.955054",
     "exception": false,
     "start_time": "2023-07-01T14:33:44.982463",
     "status": "completed"
    },
    "tags": []
   },
   "outputs": [
    {
     "data": {
      "text/plain": [
       "'so basically this is a statement with incorrect words'"
      ]
     },
     "execution_count": 29,
     "metadata": {},
     "output_type": "execute_result"
    }
   ],
   "source": [
    "from textblob import TextBlob\n",
    "incorrect_text = 'soo basicaally this is a sttement with inncorrect words'\n",
    "txtBlob = TextBlob(incorrect_text)\n",
    "txtBlob.correct().string"
   ]
  },
  {
   "cell_type": "markdown",
   "id": "84ae8132",
   "metadata": {
    "papermill": {
     "duration": 0.023417,
     "end_time": "2023-07-01T14:33:47.002086",
     "exception": false,
     "start_time": "2023-07-01T14:33:46.978669",
     "status": "completed"
    },
    "tags": []
   },
   "source": [
    "# Removing Stop words\n",
    "Words that are used in sentence formation (like A,the,and etc) but have no meaning and might not be useful for tasks like sentiment analysis altough for tasks like parts of speech tagging stop words might be useful"
   ]
  },
  {
   "cell_type": "code",
   "execution_count": 30,
   "id": "0bbcf95d",
   "metadata": {
    "execution": {
     "iopub.execute_input": "2023-07-01T14:33:47.052873Z",
     "iopub.status.busy": "2023-07-01T14:33:47.052489Z",
     "iopub.status.idle": "2023-07-01T14:33:47.056813Z",
     "shell.execute_reply": "2023-07-01T14:33:47.055812Z"
    },
    "papermill": {
     "duration": 0.03216,
     "end_time": "2023-07-01T14:33:47.058895",
     "exception": false,
     "start_time": "2023-07-01T14:33:47.026735",
     "status": "completed"
    },
    "tags": []
   },
   "outputs": [],
   "source": [
    "from nltk.corpus import stopwords"
   ]
  },
  {
   "cell_type": "code",
   "execution_count": 31,
   "id": "ffc10693",
   "metadata": {
    "execution": {
     "iopub.execute_input": "2023-07-01T14:33:47.109651Z",
     "iopub.status.busy": "2023-07-01T14:33:47.108473Z",
     "iopub.status.idle": "2023-07-01T14:33:47.124199Z",
     "shell.execute_reply": "2023-07-01T14:33:47.123168Z"
    },
    "papermill": {
     "duration": 0.04281,
     "end_time": "2023-07-01T14:33:47.126315",
     "exception": false,
     "start_time": "2023-07-01T14:33:47.083505",
     "status": "completed"
    },
    "tags": []
   },
   "outputs": [
    {
     "data": {
      "text/plain": [
       "['i',\n",
       " 'me',\n",
       " 'my',\n",
       " 'myself',\n",
       " 'we',\n",
       " 'our',\n",
       " 'ours',\n",
       " 'ourselves',\n",
       " 'you',\n",
       " \"you're\",\n",
       " \"you've\",\n",
       " \"you'll\",\n",
       " \"you'd\",\n",
       " 'your',\n",
       " 'yours',\n",
       " 'yourself',\n",
       " 'yourselves',\n",
       " 'he',\n",
       " 'him',\n",
       " 'his',\n",
       " 'himself',\n",
       " 'she',\n",
       " \"she's\",\n",
       " 'her',\n",
       " 'hers',\n",
       " 'herself',\n",
       " 'it',\n",
       " \"it's\",\n",
       " 'its',\n",
       " 'itself',\n",
       " 'they',\n",
       " 'them',\n",
       " 'their',\n",
       " 'theirs',\n",
       " 'themselves',\n",
       " 'what',\n",
       " 'which',\n",
       " 'who',\n",
       " 'whom',\n",
       " 'this',\n",
       " 'that',\n",
       " \"that'll\",\n",
       " 'these',\n",
       " 'those',\n",
       " 'am',\n",
       " 'is',\n",
       " 'are',\n",
       " 'was',\n",
       " 'were',\n",
       " 'be',\n",
       " 'been',\n",
       " 'being',\n",
       " 'have',\n",
       " 'has',\n",
       " 'had',\n",
       " 'having',\n",
       " 'do',\n",
       " 'does',\n",
       " 'did',\n",
       " 'doing',\n",
       " 'a',\n",
       " 'an',\n",
       " 'the',\n",
       " 'and',\n",
       " 'but',\n",
       " 'if',\n",
       " 'or',\n",
       " 'because',\n",
       " 'as',\n",
       " 'until',\n",
       " 'while',\n",
       " 'of',\n",
       " 'at',\n",
       " 'by',\n",
       " 'for',\n",
       " 'with',\n",
       " 'about',\n",
       " 'against',\n",
       " 'between',\n",
       " 'into',\n",
       " 'through',\n",
       " 'during',\n",
       " 'before',\n",
       " 'after',\n",
       " 'above',\n",
       " 'below',\n",
       " 'to',\n",
       " 'from',\n",
       " 'up',\n",
       " 'down',\n",
       " 'in',\n",
       " 'out',\n",
       " 'on',\n",
       " 'off',\n",
       " 'over',\n",
       " 'under',\n",
       " 'again',\n",
       " 'further',\n",
       " 'then',\n",
       " 'once',\n",
       " 'here',\n",
       " 'there',\n",
       " 'when',\n",
       " 'where',\n",
       " 'why',\n",
       " 'how',\n",
       " 'all',\n",
       " 'any',\n",
       " 'both',\n",
       " 'each',\n",
       " 'few',\n",
       " 'more',\n",
       " 'most',\n",
       " 'other',\n",
       " 'some',\n",
       " 'such',\n",
       " 'no',\n",
       " 'nor',\n",
       " 'not',\n",
       " 'only',\n",
       " 'own',\n",
       " 'same',\n",
       " 'so',\n",
       " 'than',\n",
       " 'too',\n",
       " 'very',\n",
       " 's',\n",
       " 't',\n",
       " 'can',\n",
       " 'will',\n",
       " 'just',\n",
       " 'don',\n",
       " \"don't\",\n",
       " 'should',\n",
       " \"should've\",\n",
       " 'now',\n",
       " 'd',\n",
       " 'll',\n",
       " 'm',\n",
       " 'o',\n",
       " 're',\n",
       " 've',\n",
       " 'y',\n",
       " 'ain',\n",
       " 'aren',\n",
       " \"aren't\",\n",
       " 'couldn',\n",
       " \"couldn't\",\n",
       " 'didn',\n",
       " \"didn't\",\n",
       " 'doesn',\n",
       " \"doesn't\",\n",
       " 'hadn',\n",
       " \"hadn't\",\n",
       " 'hasn',\n",
       " \"hasn't\",\n",
       " 'haven',\n",
       " \"haven't\",\n",
       " 'isn',\n",
       " \"isn't\",\n",
       " 'ma',\n",
       " 'mightn',\n",
       " \"mightn't\",\n",
       " 'mustn',\n",
       " \"mustn't\",\n",
       " 'needn',\n",
       " \"needn't\",\n",
       " 'shan',\n",
       " \"shan't\",\n",
       " 'shouldn',\n",
       " \"shouldn't\",\n",
       " 'wasn',\n",
       " \"wasn't\",\n",
       " 'weren',\n",
       " \"weren't\",\n",
       " 'won',\n",
       " \"won't\",\n",
       " 'wouldn',\n",
       " \"wouldn't\"]"
      ]
     },
     "execution_count": 31,
     "metadata": {},
     "output_type": "execute_result"
    }
   ],
   "source": [
    "stopwords.words('english')"
   ]
  },
  {
   "cell_type": "code",
   "execution_count": 32,
   "id": "e494f20b",
   "metadata": {
    "execution": {
     "iopub.execute_input": "2023-07-01T14:33:47.176053Z",
     "iopub.status.busy": "2023-07-01T14:33:47.175707Z",
     "iopub.status.idle": "2023-07-01T14:33:47.181438Z",
     "shell.execute_reply": "2023-07-01T14:33:47.180350Z"
    },
    "papermill": {
     "duration": 0.0332,
     "end_time": "2023-07-01T14:33:47.183583",
     "exception": false,
     "start_time": "2023-07-01T14:33:47.150383",
     "status": "completed"
    },
    "tags": []
   },
   "outputs": [],
   "source": [
    "def remove_stopwords(text):\n",
    "    new_text =[]\n",
    "    for word in text.split():\n",
    "        if word in stopwords.words('english'):\n",
    "            new_text.append('')\n",
    "        else:\n",
    "            new_text.append(word)\n",
    "    x = new_text[:]\n",
    "    new_text.clear()\n",
    "    return \" \".join(x)"
   ]
  },
  {
   "cell_type": "code",
   "execution_count": 33,
   "id": "575c5892",
   "metadata": {
    "execution": {
     "iopub.execute_input": "2023-07-01T14:33:47.231292Z",
     "iopub.status.busy": "2023-07-01T14:33:47.230726Z",
     "iopub.status.idle": "2023-07-01T14:33:47.241600Z",
     "shell.execute_reply": "2023-07-01T14:33:47.240678Z"
    },
    "papermill": {
     "duration": 0.037566,
     "end_time": "2023-07-01T14:33:47.243767",
     "exception": false,
     "start_time": "2023-07-01T14:33:47.206201",
     "status": "completed"
    },
    "tags": []
   },
   "outputs": [
    {
     "data": {
      "text/plain": [
       "'probably hence allowing   modify  copy without damaging  original,  reason  also works  strings    Python, Strings  arrays  bytes representing Unicode characters'"
      ]
     },
     "execution_count": 33,
     "metadata": {},
     "output_type": "execute_result"
    }
   ],
   "source": [
    "remove_stopwords('probably hence allowing you to modify your copy without damaging the original, the reason this also works for strings is that in Python, Strings are arrays of bytes representing Unicode characters')"
   ]
  },
  {
   "cell_type": "markdown",
   "id": "37edf0c3",
   "metadata": {
    "papermill": {
     "duration": 0.023676,
     "end_time": "2023-07-01T14:33:47.290874",
     "exception": false,
     "start_time": "2023-07-01T14:33:47.267198",
     "status": "completed"
    },
    "tags": []
   },
   "source": [
    "# Handling emojis"
   ]
  },
  {
   "cell_type": "code",
   "execution_count": 34,
   "id": "8ec47828",
   "metadata": {
    "execution": {
     "iopub.execute_input": "2023-07-01T14:33:47.342523Z",
     "iopub.status.busy": "2023-07-01T14:33:47.342154Z",
     "iopub.status.idle": "2023-07-01T14:33:47.347589Z",
     "shell.execute_reply": "2023-07-01T14:33:47.346812Z"
    },
    "papermill": {
     "duration": 0.03335,
     "end_time": "2023-07-01T14:33:47.349371",
     "exception": false,
     "start_time": "2023-07-01T14:33:47.316021",
     "status": "completed"
    },
    "tags": []
   },
   "outputs": [],
   "source": [
    "#case 1 removing the emoji's\n",
    "import re\n",
    "def remove_emoji(string):\n",
    "    emoji_pattern = re.compile(\"[\"\n",
    "                           u\"\\U0001F600-\\U0001F64F\" # emoticons\n",
    "                           u\"\\U0001F300-\\U0001F5FF\" # symbols & pictographs\n",
    "                           u\"\\U0001F680-\\U0001F6FF\" # transport & map symbols\n",
    "                           u\"\\U0001F1E0-\\U0001F1FF\" # flags (iOS)\n",
    "                           u\"\\U00002702-\\U000027B0\"\n",
    "                           u\"\\U000024C2-\\U0001F251\"\n",
    "                           \"]+\", flags=re.UNICODE)\n",
    "    return emoji_pattern.sub(r'', string)"
   ]
  },
  {
   "cell_type": "code",
   "execution_count": 35,
   "id": "6e2cde1e",
   "metadata": {
    "execution": {
     "iopub.execute_input": "2023-07-01T14:33:47.398397Z",
     "iopub.status.busy": "2023-07-01T14:33:47.398020Z",
     "iopub.status.idle": "2023-07-01T14:33:47.408227Z",
     "shell.execute_reply": "2023-07-01T14:33:47.407585Z"
    },
    "papermill": {
     "duration": 0.036803,
     "end_time": "2023-07-01T14:33:47.410064",
     "exception": false,
     "start_time": "2023-07-01T14:33:47.373261",
     "status": "completed"
    },
    "tags": []
   },
   "outputs": [
    {
     "data": {
      "text/plain": [
       "'Hilarious ! The feeling of making a sale , The feeling of actually fulfilling orders '"
      ]
     },
     "execution_count": 35,
     "metadata": {},
     "output_type": "execute_result"
    }
   ],
   "source": [
    "remove_emoji(\"Hilarious 😂! The feeling of making a sale 😎, The feeling of actually fulfilling orders 😒\")"
   ]
  },
  {
   "cell_type": "code",
   "execution_count": 36,
   "id": "ba29c257",
   "metadata": {
    "execution": {
     "iopub.execute_input": "2023-07-01T14:33:47.459217Z",
     "iopub.status.busy": "2023-07-01T14:33:47.458827Z",
     "iopub.status.idle": "2023-07-01T14:33:47.523727Z",
     "shell.execute_reply": "2023-07-01T14:33:47.522366Z"
    },
    "papermill": {
     "duration": 0.091841,
     "end_time": "2023-07-01T14:33:47.526108",
     "exception": false,
     "start_time": "2023-07-01T14:33:47.434267",
     "status": "completed"
    },
    "tags": []
   },
   "outputs": [
    {
     "name": "stdout",
     "output_type": "stream",
     "text": [
      "The feeling of making a sale :smiling_face_with_sunglasses:\n"
     ]
    }
   ],
   "source": [
    "# case 2 Replacing the emoji\n",
    "import emoji \n",
    "print(emoji.demojize('The feeling of making a sale 😎'))"
   ]
  },
  {
   "cell_type": "code",
   "execution_count": 37,
   "id": "95a32706",
   "metadata": {
    "execution": {
     "iopub.execute_input": "2023-07-01T14:33:47.576738Z",
     "iopub.status.busy": "2023-07-01T14:33:47.576363Z",
     "iopub.status.idle": "2023-07-01T14:33:47.581648Z",
     "shell.execute_reply": "2023-07-01T14:33:47.580606Z"
    },
    "papermill": {
     "duration": 0.033536,
     "end_time": "2023-07-01T14:33:47.584030",
     "exception": false,
     "start_time": "2023-07-01T14:33:47.550494",
     "status": "completed"
    },
    "tags": []
   },
   "outputs": [
    {
     "name": "stdout",
     "output_type": "stream",
     "text": [
      "Meaning of this: :kissing_face_with_smiling_eyes:\n"
     ]
    }
   ],
   "source": [
    "import emoji \n",
    "print(emoji.demojize('Meaning of this: 😙'))"
   ]
  },
  {
   "attachments": {
    "dab9fefa-7805-45b0-8bd8-ee805af92fcb.png": {
     "image/png": "[encoded data removed]"
    }
   },
   "cell_type": "markdown",
   "id": "c2a009cb",
   "metadata": {
    "papermill": {
     "duration": 0.02271,
     "end_time": "2023-07-01T14:33:47.630775",
     "exception": false,
     "start_time": "2023-07-01T14:33:47.608065",
     "status": "completed"
    },
    "tags": []
   },
   "source": [
    "# Tokenization \n",
    "is the process of dividing data into parts (based on words,sentences etc)\n",
    "<br> Challenges in tokenization <br>\n",
    "![image.png](attachment:dab9fefa-7805-45b0-8bd8-ee805af92fcb.png)"
   ]
  },
  {
   "cell_type": "markdown",
   "id": "7a05595b",
   "metadata": {
    "papermill": {
     "duration": 0.023406,
     "end_time": "2023-07-01T14:33:47.678846",
     "exception": false,
     "start_time": "2023-07-01T14:33:47.655440",
     "status": "completed"
    },
    "tags": []
   },
   "source": [
    "<h2>1. Using Split</h2>"
   ]
  },
  {
   "cell_type": "code",
   "execution_count": 38,
   "id": "8e4121e7",
   "metadata": {
    "execution": {
     "iopub.execute_input": "2023-07-01T14:33:47.727491Z",
     "iopub.status.busy": "2023-07-01T14:33:47.727149Z",
     "iopub.status.idle": "2023-07-01T14:33:47.733568Z",
     "shell.execute_reply": "2023-07-01T14:33:47.732577Z"
    },
    "papermill": {
     "duration": 0.033185,
     "end_time": "2023-07-01T14:33:47.735700",
     "exception": false,
     "start_time": "2023-07-01T14:33:47.702515",
     "status": "completed"
    },
    "tags": []
   },
   "outputs": [
    {
     "data": {
      "text/plain": [
       "['I', 'am', 'going', 'to', 'delhi!', 'I', 'am', 'excited']"
      ]
     },
     "execution_count": 38,
     "metadata": {},
     "output_type": "execute_result"
    }
   ],
   "source": [
    "sent1 = \"I am going to delhi! I am excited\"\n",
    "sent1.split()"
   ]
  },
  {
   "cell_type": "code",
   "execution_count": 39,
   "id": "ed49d5b9",
   "metadata": {
    "execution": {
     "iopub.execute_input": "2023-07-01T14:33:47.785157Z",
     "iopub.status.busy": "2023-07-01T14:33:47.784782Z",
     "iopub.status.idle": "2023-07-01T14:33:47.790378Z",
     "shell.execute_reply": "2023-07-01T14:33:47.789707Z"
    },
    "papermill": {
     "duration": 0.033262,
     "end_time": "2023-07-01T14:33:47.792268",
     "exception": false,
     "start_time": "2023-07-01T14:33:47.759006",
     "status": "completed"
    },
    "tags": []
   },
   "outputs": [
    {
     "data": {
      "text/plain": [
       "['I am going to delhi! I am excited']"
      ]
     },
     "execution_count": 39,
     "metadata": {},
     "output_type": "execute_result"
    }
   ],
   "source": [
    "sent1.split(\".\")\n",
    "# problems - won't consider ! marks or ? to split sentences"
   ]
  },
  {
   "cell_type": "markdown",
   "id": "6af731fc",
   "metadata": {
    "papermill": {
     "duration": 0.025238,
     "end_time": "2023-07-01T14:33:47.842109",
     "exception": false,
     "start_time": "2023-07-01T14:33:47.816871",
     "status": "completed"
    },
    "tags": []
   },
   "source": [
    "<h2>2.Regular Expression</h2>"
   ]
  },
  {
   "cell_type": "code",
   "execution_count": 40,
   "id": "46905501",
   "metadata": {
    "execution": {
     "iopub.execute_input": "2023-07-01T14:33:47.894035Z",
     "iopub.status.busy": "2023-07-01T14:33:47.893620Z",
     "iopub.status.idle": "2023-07-01T14:33:47.900812Z",
     "shell.execute_reply": "2023-07-01T14:33:47.899789Z"
    },
    "papermill": {
     "duration": 0.035552,
     "end_time": "2023-07-01T14:33:47.902943",
     "exception": false,
     "start_time": "2023-07-01T14:33:47.867391",
     "status": "completed"
    },
    "tags": []
   },
   "outputs": [
    {
     "data": {
      "text/plain": [
       "['I', 'am', 'going', 'to', 'delhi', 'I', 'am', 'excited']"
      ]
     },
     "execution_count": 40,
     "metadata": {},
     "output_type": "execute_result"
    }
   ],
   "source": [
    "import re\n",
    "tokens = re.findall(\"[\\w']+\",sent1)\n",
    "tokens"
   ]
  },
  {
   "cell_type": "code",
   "execution_count": 41,
   "id": "66a3c182",
   "metadata": {
    "execution": {
     "iopub.execute_input": "2023-07-01T14:33:47.954685Z",
     "iopub.status.busy": "2023-07-01T14:33:47.954182Z",
     "iopub.status.idle": "2023-07-01T14:33:47.961399Z",
     "shell.execute_reply": "2023-07-01T14:33:47.960388Z"
    },
    "papermill": {
     "duration": 0.035973,
     "end_time": "2023-07-01T14:33:47.963681",
     "exception": false,
     "start_time": "2023-07-01T14:33:47.927708",
     "status": "completed"
    },
    "tags": []
   },
   "outputs": [
    {
     "data": {
      "text/plain": [
       "['I am going to delhi', ' I am excited']"
      ]
     },
     "execution_count": 41,
     "metadata": {},
     "output_type": "execute_result"
    }
   ],
   "source": [
    "sentences = re.compile('[.!?]').split(sent1)\n",
    "sentences"
   ]
  },
  {
   "cell_type": "markdown",
   "id": "4e5fab65",
   "metadata": {
    "papermill": {
     "duration": 0.025729,
     "end_time": "2023-07-01T14:33:48.014450",
     "exception": false,
     "start_time": "2023-07-01T14:33:47.988721",
     "status": "completed"
    },
    "tags": []
   },
   "source": [
    "<h2>3.NLTK</h2>"
   ]
  },
  {
   "cell_type": "code",
   "execution_count": 42,
   "id": "e5d3b5d7",
   "metadata": {
    "execution": {
     "iopub.execute_input": "2023-07-01T14:33:48.067128Z",
     "iopub.status.busy": "2023-07-01T14:33:48.066762Z",
     "iopub.status.idle": "2023-07-01T14:33:48.071360Z",
     "shell.execute_reply": "2023-07-01T14:33:48.070356Z"
    },
    "papermill": {
     "duration": 0.033841,
     "end_time": "2023-07-01T14:33:48.073634",
     "exception": false,
     "start_time": "2023-07-01T14:33:48.039793",
     "status": "completed"
    },
    "tags": []
   },
   "outputs": [],
   "source": [
    "from nltk.tokenize import word_tokenize, sent_tokenize"
   ]
  },
  {
   "cell_type": "code",
   "execution_count": 43,
   "id": "b6165cfa",
   "metadata": {
    "execution": {
     "iopub.execute_input": "2023-07-01T14:33:48.126059Z",
     "iopub.status.busy": "2023-07-01T14:33:48.125698Z",
     "iopub.status.idle": "2023-07-01T14:33:48.144810Z",
     "shell.execute_reply": "2023-07-01T14:33:48.144049Z"
    },
    "papermill": {
     "duration": 0.04827,
     "end_time": "2023-07-01T14:33:48.146982",
     "exception": false,
     "start_time": "2023-07-01T14:33:48.098712",
     "status": "completed"
    },
    "tags": []
   },
   "outputs": [
    {
     "data": {
      "text/plain": [
       "['I', 'am', 'going', 'to', 'delhi', '!', 'I', 'am', 'excited']"
      ]
     },
     "execution_count": 43,
     "metadata": {},
     "output_type": "execute_result"
    }
   ],
   "source": [
    "word_tokenize(sent1)"
   ]
  },
  {
   "cell_type": "code",
   "execution_count": 44,
   "id": "786b76d7",
   "metadata": {
    "execution": {
     "iopub.execute_input": "2023-07-01T14:33:48.199713Z",
     "iopub.status.busy": "2023-07-01T14:33:48.198735Z",
     "iopub.status.idle": "2023-07-01T14:33:48.204889Z",
     "shell.execute_reply": "2023-07-01T14:33:48.203961Z"
    },
    "papermill": {
     "duration": 0.034916,
     "end_time": "2023-07-01T14:33:48.206840",
     "exception": false,
     "start_time": "2023-07-01T14:33:48.171924",
     "status": "completed"
    },
    "tags": []
   },
   "outputs": [
    {
     "data": {
      "text/plain": [
       "['I am going to delhi!', 'I am excited']"
      ]
     },
     "execution_count": 44,
     "metadata": {},
     "output_type": "execute_result"
    }
   ],
   "source": [
    "sent_tokenize(sent1)"
   ]
  },
  {
   "cell_type": "code",
   "execution_count": 45,
   "id": "5a9ca30d",
   "metadata": {
    "execution": {
     "iopub.execute_input": "2023-07-01T14:33:48.260551Z",
     "iopub.status.busy": "2023-07-01T14:33:48.260138Z",
     "iopub.status.idle": "2023-07-01T14:33:48.264558Z",
     "shell.execute_reply": "2023-07-01T14:33:48.263611Z"
    },
    "papermill": {
     "duration": 0.034012,
     "end_time": "2023-07-01T14:33:48.266648",
     "exception": false,
     "start_time": "2023-07-01T14:33:48.232636",
     "status": "completed"
    },
    "tags": []
   },
   "outputs": [],
   "source": [
    "sent2 = \"I have a Ph.D in A.I.\"\n",
    "sent3 = \"My gmail id is meghashivhare8@gmail.com\"\n",
    "sent4 = \"I live 10km from college and it take 1$ to reach home by bus\""
   ]
  },
  {
   "cell_type": "code",
   "execution_count": 46,
   "id": "619bd93b",
   "metadata": {
    "execution": {
     "iopub.execute_input": "2023-07-01T14:33:48.321925Z",
     "iopub.status.busy": "2023-07-01T14:33:48.320797Z",
     "iopub.status.idle": "2023-07-01T14:33:48.328158Z",
     "shell.execute_reply": "2023-07-01T14:33:48.327088Z"
    },
    "papermill": {
     "duration": 0.038087,
     "end_time": "2023-07-01T14:33:48.330486",
     "exception": false,
     "start_time": "2023-07-01T14:33:48.292399",
     "status": "completed"
    },
    "tags": []
   },
   "outputs": [
    {
     "data": {
      "text/plain": [
       "['I', 'have', 'a', 'Ph.D', 'in', 'A.I', '.']"
      ]
     },
     "execution_count": 46,
     "metadata": {},
     "output_type": "execute_result"
    }
   ],
   "source": [
    "word_tokenize(sent2)"
   ]
  },
  {
   "cell_type": "code",
   "execution_count": 47,
   "id": "6d2fe06b",
   "metadata": {
    "execution": {
     "iopub.execute_input": "2023-07-01T14:33:48.383835Z",
     "iopub.status.busy": "2023-07-01T14:33:48.383429Z",
     "iopub.status.idle": "2023-07-01T14:33:48.389662Z",
     "shell.execute_reply": "2023-07-01T14:33:48.388700Z"
    },
    "papermill": {
     "duration": 0.035572,
     "end_time": "2023-07-01T14:33:48.392000",
     "exception": false,
     "start_time": "2023-07-01T14:33:48.356428",
     "status": "completed"
    },
    "tags": []
   },
   "outputs": [
    {
     "data": {
      "text/plain": [
       "['My', 'gmail', 'id', 'is', 'meghashivhare8', '@', 'gmail.com']"
      ]
     },
     "execution_count": 47,
     "metadata": {},
     "output_type": "execute_result"
    }
   ],
   "source": [
    "# problem - breaks email id into parts\n",
    "word_tokenize(sent3)"
   ]
  },
  {
   "cell_type": "code",
   "execution_count": 48,
   "id": "831b71fa",
   "metadata": {
    "execution": {
     "iopub.execute_input": "2023-07-01T14:33:48.445129Z",
     "iopub.status.busy": "2023-07-01T14:33:48.444739Z",
     "iopub.status.idle": "2023-07-01T14:33:48.451311Z",
     "shell.execute_reply": "2023-07-01T14:33:48.450275Z"
    },
    "papermill": {
     "duration": 0.036582,
     "end_time": "2023-07-01T14:33:48.454132",
     "exception": false,
     "start_time": "2023-07-01T14:33:48.417550",
     "status": "completed"
    },
    "tags": []
   },
   "outputs": [
    {
     "data": {
      "text/plain": [
       "['I',\n",
       " 'live',\n",
       " '10km',\n",
       " 'from',\n",
       " 'college',\n",
       " 'and',\n",
       " 'it',\n",
       " 'take',\n",
       " '1',\n",
       " '$',\n",
       " 'to',\n",
       " 'reach',\n",
       " 'home',\n",
       " 'by',\n",
       " 'bus']"
      ]
     },
     "execution_count": 48,
     "metadata": {},
     "output_type": "execute_result"
    }
   ],
   "source": [
    "# problem - consider value in km as one token only\n",
    "word_tokenize(sent4)"
   ]
  },
  {
   "cell_type": "markdown",
   "id": "49de20ee",
   "metadata": {
    "papermill": {
     "duration": 0.025871,
     "end_time": "2023-07-01T14:33:48.506104",
     "exception": false,
     "start_time": "2023-07-01T14:33:48.480233",
     "status": "completed"
    },
    "tags": []
   },
   "source": [
    "<h2>4.Spacy</h2>"
   ]
  },
  {
   "cell_type": "code",
   "execution_count": 49,
   "id": "42eca530",
   "metadata": {
    "execution": {
     "iopub.execute_input": "2023-07-01T14:33:48.559726Z",
     "iopub.status.busy": "2023-07-01T14:33:48.559346Z",
     "iopub.status.idle": "2023-07-01T14:34:01.970031Z",
     "shell.execute_reply": "2023-07-01T14:34:01.968907Z"
    },
    "papermill": {
     "duration": 13.440887,
     "end_time": "2023-07-01T14:34:01.973007",
     "exception": false,
     "start_time": "2023-07-01T14:33:48.532120",
     "status": "completed"
    },
    "tags": []
   },
   "outputs": [
    {
     "name": "stderr",
     "output_type": "stream",
     "text": [
      "/opt/conda/lib/python3.10/site-packages/tensorflow_io/python/ops/__init__.py:98: UserWarning: unable to load libtensorflow_io_plugins.so: unable to open file: libtensorflow_io_plugins.so, from paths: ['/opt/conda/lib/python3.10/site-packages/tensorflow_io/python/ops/libtensorflow_io_plugins.so']\n",
      "caused by: ['/opt/conda/lib/python3.10/site-packages/tensorflow_io/python/ops/libtensorflow_io_plugins.so: undefined symbol: _ZN3tsl6StatusC1EN10tensorflow5error4CodeESt17basic_string_viewIcSt11char_traitsIcEENS_14SourceLocationE']\n",
      "  warnings.warn(f\"unable to load libtensorflow_io_plugins.so: {e}\")\n",
      "/opt/conda/lib/python3.10/site-packages/tensorflow_io/python/ops/__init__.py:104: UserWarning: file system plugins are not loaded: unable to open file: libtensorflow_io.so, from paths: ['/opt/conda/lib/python3.10/site-packages/tensorflow_io/python/ops/libtensorflow_io.so']\n",
      "caused by: ['/opt/conda/lib/python3.10/site-packages/tensorflow_io/python/ops/libtensorflow_io.so: undefined symbol: _ZTVN10tensorflow13GcsFileSystemE']\n",
      "  warnings.warn(f\"file system plugins are not loaded: {e}\")\n"
     ]
    }
   ],
   "source": [
    "import spacy \n",
    "nlp = spacy.load('en_core_web_sm')"
   ]
  },
  {
   "cell_type": "code",
   "execution_count": 50,
   "id": "3e1b1575",
   "metadata": {
    "execution": {
     "iopub.execute_input": "2023-07-01T14:34:02.027119Z",
     "iopub.status.busy": "2023-07-01T14:34:02.026247Z",
     "iopub.status.idle": "2023-07-01T14:34:02.075716Z",
     "shell.execute_reply": "2023-07-01T14:34:02.074825Z"
    },
    "papermill": {
     "duration": 0.079489,
     "end_time": "2023-07-01T14:34:02.078467",
     "exception": false,
     "start_time": "2023-07-01T14:34:01.998978",
     "status": "completed"
    },
    "tags": []
   },
   "outputs": [],
   "source": [
    "dic1 = nlp(sent1)\n",
    "dic2 = nlp(sent2)\n",
    "dic3 = nlp(sent3)\n",
    "dic4 = nlp(sent4)"
   ]
  },
  {
   "cell_type": "code",
   "execution_count": 51,
   "id": "eb658589",
   "metadata": {
    "execution": {
     "iopub.execute_input": "2023-07-01T14:34:02.131691Z",
     "iopub.status.busy": "2023-07-01T14:34:02.131031Z",
     "iopub.status.idle": "2023-07-01T14:34:02.135694Z",
     "shell.execute_reply": "2023-07-01T14:34:02.135020Z"
    },
    "papermill": {
     "duration": 0.033628,
     "end_time": "2023-07-01T14:34:02.137684",
     "exception": false,
     "start_time": "2023-07-01T14:34:02.104056",
     "status": "completed"
    },
    "tags": []
   },
   "outputs": [
    {
     "name": "stdout",
     "output_type": "stream",
     "text": [
      "I\n",
      "am\n",
      "going\n",
      "to\n",
      "delhi\n",
      "!\n",
      "I\n",
      "am\n",
      "excited\n"
     ]
    }
   ],
   "source": [
    "for token in dic1:\n",
    "    print(token)"
   ]
  },
  {
   "cell_type": "code",
   "execution_count": 52,
   "id": "b7809a88",
   "metadata": {
    "execution": {
     "iopub.execute_input": "2023-07-01T14:34:02.190185Z",
     "iopub.status.busy": "2023-07-01T14:34:02.189811Z",
     "iopub.status.idle": "2023-07-01T14:34:02.194903Z",
     "shell.execute_reply": "2023-07-01T14:34:02.193861Z"
    },
    "papermill": {
     "duration": 0.034771,
     "end_time": "2023-07-01T14:34:02.197363",
     "exception": false,
     "start_time": "2023-07-01T14:34:02.162592",
     "status": "completed"
    },
    "tags": []
   },
   "outputs": [
    {
     "name": "stdout",
     "output_type": "stream",
     "text": [
      "I\n",
      "have\n",
      "a\n",
      "Ph\n",
      ".\n",
      "D\n",
      "in\n",
      "A.I.\n"
     ]
    }
   ],
   "source": [
    "# Problem - Consider Ph.D as different tokens\n",
    "for token in dic2:\n",
    "    print(token)"
   ]
  },
  {
   "cell_type": "code",
   "execution_count": 53,
   "id": "bb3cfab7",
   "metadata": {
    "execution": {
     "iopub.execute_input": "2023-07-01T14:34:02.249278Z",
     "iopub.status.busy": "2023-07-01T14:34:02.248902Z",
     "iopub.status.idle": "2023-07-01T14:34:02.254101Z",
     "shell.execute_reply": "2023-07-01T14:34:02.253151Z"
    },
    "papermill": {
     "duration": 0.034383,
     "end_time": "2023-07-01T14:34:02.256777",
     "exception": false,
     "start_time": "2023-07-01T14:34:02.222394",
     "status": "completed"
    },
    "tags": []
   },
   "outputs": [
    {
     "name": "stdout",
     "output_type": "stream",
     "text": [
      "My\n",
      "gmail\n",
      "i\n",
      "d\n",
      "is\n",
      "meghashivhare8@gmail.com\n"
     ]
    }
   ],
   "source": [
    "for token in dic3:\n",
    "    print(token)"
   ]
  },
  {
   "cell_type": "code",
   "execution_count": 54,
   "id": "f5ea5fdd",
   "metadata": {
    "execution": {
     "iopub.execute_input": "2023-07-01T14:34:02.310222Z",
     "iopub.status.busy": "2023-07-01T14:34:02.309839Z",
     "iopub.status.idle": "2023-07-01T14:34:02.315322Z",
     "shell.execute_reply": "2023-07-01T14:34:02.314439Z"
    },
    "papermill": {
     "duration": 0.034752,
     "end_time": "2023-07-01T14:34:02.317527",
     "exception": false,
     "start_time": "2023-07-01T14:34:02.282775",
     "status": "completed"
    },
    "tags": []
   },
   "outputs": [
    {
     "name": "stdout",
     "output_type": "stream",
     "text": [
      "I\n",
      "live\n",
      "10\n",
      "km\n",
      "from\n",
      "college\n",
      "and\n",
      "it\n",
      "take\n",
      "1\n",
      "$\n",
      "to\n",
      "reach\n",
      "home\n",
      "by\n",
      "bus\n"
     ]
    }
   ],
   "source": [
    "for token in dic4:\n",
    "    print(token)"
   ]
  },
  {
   "cell_type": "markdown",
   "id": "22560f0e",
   "metadata": {
    "papermill": {
     "duration": 0.024864,
     "end_time": "2023-07-01T14:34:02.367711",
     "exception": false,
     "start_time": "2023-07-01T14:34:02.342847",
     "status": "completed"
    },
    "tags": []
   },
   "source": [
    "# Stemming\n",
    "In language **inflection** is a change in the form of a word (typically the ending) to express a grammatical function or attribute such as tense, mood, person, number, case, and gender.<br> \n",
    "For example - walk, walks, walking, walked. <br> \n",
    "Stemming is the process of reducing inflection to their root forms such as mapping a group of words to the same stem even if the stem itself is not valid word in the language<br> \n",
    "Stemming is mostly used in information retreival systems. <br> "
   ]
  },
  {
   "cell_type": "code",
   "execution_count": 55,
   "id": "9b21351b",
   "metadata": {
    "execution": {
     "iopub.execute_input": "2023-07-01T14:34:02.421648Z",
     "iopub.status.busy": "2023-07-01T14:34:02.420959Z",
     "iopub.status.idle": "2023-07-01T14:34:02.425809Z",
     "shell.execute_reply": "2023-07-01T14:34:02.424821Z"
    },
    "papermill": {
     "duration": 0.03385,
     "end_time": "2023-07-01T14:34:02.427975",
     "exception": false,
     "start_time": "2023-07-01T14:34:02.394125",
     "status": "completed"
    },
    "tags": []
   },
   "outputs": [],
   "source": [
    "from nltk.stem.porter import PorterStemmer "
   ]
  },
  {
   "cell_type": "code",
   "execution_count": 56,
   "id": "92ee76b1",
   "metadata": {
    "execution": {
     "iopub.execute_input": "2023-07-01T14:34:02.480782Z",
     "iopub.status.busy": "2023-07-01T14:34:02.480397Z",
     "iopub.status.idle": "2023-07-01T14:34:02.485816Z",
     "shell.execute_reply": "2023-07-01T14:34:02.484734Z"
    },
    "papermill": {
     "duration": 0.034168,
     "end_time": "2023-07-01T14:34:02.487955",
     "exception": false,
     "start_time": "2023-07-01T14:34:02.453787",
     "status": "completed"
    },
    "tags": []
   },
   "outputs": [],
   "source": [
    "ps = PorterStemmer()\n",
    "def stem_words(text):\n",
    "    return \" \".join([ps.stem(word) for word in text.split()])"
   ]
  },
  {
   "cell_type": "code",
   "execution_count": 57,
   "id": "19f2ad01",
   "metadata": {
    "execution": {
     "iopub.execute_input": "2023-07-01T14:34:02.541596Z",
     "iopub.status.busy": "2023-07-01T14:34:02.541145Z",
     "iopub.status.idle": "2023-07-01T14:34:02.548031Z",
     "shell.execute_reply": "2023-07-01T14:34:02.547029Z"
    },
    "papermill": {
     "duration": 0.036271,
     "end_time": "2023-07-01T14:34:02.550117",
     "exception": false,
     "start_time": "2023-07-01T14:34:02.513846",
     "status": "completed"
    },
    "tags": []
   },
   "outputs": [
    {
     "data": {
      "text/plain": [
       "'walk walk walk walk'"
      ]
     },
     "execution_count": 57,
     "metadata": {},
     "output_type": "execute_result"
    }
   ],
   "source": [
    "sample = \"walk walks walking walked\"\n",
    "stem_words(sample)"
   ]
  },
  {
   "cell_type": "code",
   "execution_count": 58,
   "id": "8342f879",
   "metadata": {
    "execution": {
     "iopub.execute_input": "2023-07-01T14:34:02.604609Z",
     "iopub.status.busy": "2023-07-01T14:34:02.604143Z",
     "iopub.status.idle": "2023-07-01T14:34:02.617793Z",
     "shell.execute_reply": "2023-07-01T14:34:02.616763Z"
    },
    "papermill": {
     "duration": 0.043772,
     "end_time": "2023-07-01T14:34:02.620020",
     "exception": false,
     "start_time": "2023-07-01T14:34:02.576248",
     "status": "completed"
    },
    "tags": []
   },
   "outputs": [
    {
     "data": {
      "text/plain": [
       "'situat we encount same theme the director transfer the action to the present time new york where all these differ charact meet and connect each one is connect in one way or anoth to the next person but no one seem to know the previou point of contact stylishli the film ha a sophist luxuri look we are taken to see how these peopl live and the world they live in their own habitatth onli thing one get out of all these soul in the pictur is the differ stage of loneli each one inhabit a big citi is not exactli the best place in which human relat find sincer fulfil as one discern is the case with most of the peopl we encounterth act is good under mr mattei direct steve buscemi rosario dawson carol kane michael imperioli adrian grenier and the rest of the talent cast make these charact come alivew wish mr mattei good luck and await anxious for hi next work'"
      ]
     },
     "execution_count": 58,
     "metadata": {},
     "output_type": "execute_result"
    }
   ],
   "source": [
    "# Problem with stemming - it may produce stems which are not\n",
    "# actual words or which have no meaning, hence it cannot be shown to customers or \n",
    "# used in that manner \n",
    "text = \" situations we encounter same theme the director transfers the action to the present time new york where all these different characters meet and connect each one is connected in one way or another to the next person but no one seems to know the previous point of contact stylishly the film has a sophisticated luxurious look we are taken to see how these people live and the world they live in their own habitatthe only thing one gets out of all these souls in the picture is the different stages of loneliness each one inhabits a big city is not exactly the best place in which human relations find sincere fulfillment as one discerns is the case with most of the people we encounterthe acting is good under mr matteis direction steve buscemi rosario dawson carol kane michael imperioli adrian grenier and the rest of the talented cast make these characters come alivewe wish mr mattei good luck and await anxiously for his next work\"\n",
    "stem_words(text)"
   ]
  },
  {
   "cell_type": "markdown",
   "id": "e62d8680",
   "metadata": {
    "papermill": {
     "duration": 0.024635,
     "end_time": "2023-07-01T14:34:02.671107",
     "exception": false,
     "start_time": "2023-07-01T14:34:02.646472",
     "status": "completed"
    },
    "tags": []
   },
   "source": [
    "# Lemmatization\n",
    "Unlike stemming reduces inflected words properly ensuring that the **root word belongs to the language** <br>\n",
    "In lemmatization root word is called lemma <br>\n",
    "It works on dictionary like wordnet unlike stemming where algorithms are used <br>\n",
    "It is slower as compared to stemming"
   ]
  },
  {
   "cell_type": "code",
   "execution_count": null,
   "id": "704eca46",
   "metadata": {
    "papermill": {
     "duration": 0.025155,
     "end_time": "2023-07-01T14:34:02.721740",
     "exception": false,
     "start_time": "2023-07-01T14:34:02.696585",
     "status": "completed"
    },
    "tags": []
   },
   "outputs": [],
   "source": []
  }
 ],
 "metadata": {
  "kernelspec": {
   "display_name": "Python 3",
   "language": "python",
   "name": "python3"
  },
  "language_info": {
   "codemirror_mode": {
    "name": "ipython",
    "version": 3
   },
   "file_extension": ".py",
   "mimetype": "text/x-python",
   "name": "python",
   "nbconvert_exporter": "python",
   "pygments_lexer": "ipython3",
   "version": "3.10.10"
  },
  "papermill": {
   "default_parameters": {},
   "duration": 38.349311,
   "end_time": "2023-07-01T14:34:06.131884",
   "environment_variables": {},
   "exception": null,
   "input_path": "__notebook__.ipynb",
   "output_path": "__notebook__.ipynb",
   "parameters": {},
   "start_time": "2023-07-01T14:33:27.782573",
   "version": "2.4.0"
  }
 },
 "nbformat": 4,
 "nbformat_minor": 5
}
